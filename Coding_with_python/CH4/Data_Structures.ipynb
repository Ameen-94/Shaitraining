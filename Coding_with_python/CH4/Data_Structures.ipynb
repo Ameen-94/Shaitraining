{
  "cells": [
    {
      "cell_type": "markdown",
      "metadata": {
        "id": "m9NFqxtz5AEl"
      },
      "source": [
        "# Data Structures\n",
        "\n",
        "This Notebook includes the following contents:\n",
        "\n",
        "* list\n",
        "  \n",
        "  -- `CRUD`\n",
        "\n",
        "* list built-in functions\n",
        "\n",
        "  -- `append()` , `insert()` , `extend()` , `remove()` , `pop()` , `sort()` , `reverse()` , `in` , `index()` , `max()` , `min()` , `sum()`\n",
        "\n",
        "* Nested Lists\n",
        "* Tuples\n",
        "* Sets\n",
        "* Set built-in functions\n",
        "\n",
        "  -- `add()` , `update()` , `pop()` , `remove()` , `discard()` , `union()` , `intersection()` , `difference()` , `symmetric_difference()` , `in`\n",
        "\n",
        "* Dictionary\n",
        "* Dictionary built-in functions\n",
        "\n",
        "  -- `pop()` , `popitem()` , `keys()` , `values()` , `update()` , `in`\n"
      ]
    },
    {
      "cell_type": "markdown",
      "metadata": {
        "id": "qVZnZlIjDBUQ"
      },
      "source": [
        "# Lists"
      ]
    },
    {
      "cell_type": "markdown",
      "metadata": {
        "id": "hWKNQJsdhf5Z"
      },
      "source": [
        "* Lists are one of the most versatile data structures in Python. A list can contain any sort of object: numbers, strings, and even other lists.\n",
        "\n",
        "* Lists are mutable, meaning they can be modified after they are created.\n",
        "\n",
        "* We can create a list by enclosing a comma-separated sequence of elements in square brackets [ ].\n",
        "\n",
        "*   Ordered: The items in a list have a specific order, and that order doesn't change unless you modify the list.\n",
        "\n",
        "*   Changable: You can change, add, or remove items after the list is created.\n",
        "\n",
        "*   Allows Duplicates: Lists can have items that are the same, so duplicates are allowed.\n",
        "\n",
        "\n",
        "---\n",
        "CRUD Operations\n",
        "   - Create: `lst = [1, 2, 3, 4, 5]`\n",
        "   - Read: `lst[0]` (This returns the first element of the list.)\n",
        "   - Update: `lst[0] = 10` (This changes the first element to 10.)\n",
        "   - Delete: `del lst[0]` (This removes the first element from the list.)"
      ]
    },
    {
      "cell_type": "code",
      "execution_count": null,
      "metadata": {},
      "outputs": [
        {
          "name": "stdout",
          "output_type": "stream",
          "text": [
            "8\n",
            "1 4 7\n"
          ]
        }
      ],
      "source": [
        "lst=[[[1],[2],[3]],[[4],[5],[6]],[[7],[8],[9]]]\n",
        "print(lst[2][1][0])  \n",
        "print(lst[0][0][0],lst[1][0][0], lst[2][0][0])"
      ]
    },
    {
      "cell_type": "code",
      "execution_count": 9,
      "metadata": {
        "id": "ZAYmnf_CMDNH"
      },
      "outputs": [
        {
          "data": {
            "text/plain": [
              "[10, 1, 2, 3]"
            ]
          },
          "execution_count": 9,
          "metadata": {},
          "output_type": "execute_result"
        }
      ],
      "source": [
        "lst=[0,1,2,3]\n",
        "lst[0]=10\n",
        "lst"
      ]
    },
    {
      "cell_type": "code",
      "execution_count": 27,
      "metadata": {
        "id": "ZAwz0gkiC5oj"
      },
      "outputs": [
        {
          "name": "stdout",
          "output_type": "stream",
          "text": [
            "<class 'list'>\n"
          ]
        },
        {
          "data": {
            "text/plain": [
              "[]"
            ]
          },
          "execution_count": 27,
          "metadata": {},
          "output_type": "execute_result"
        }
      ],
      "source": [
        "# Create an empty list\n",
        "my_list = list() # or my_list = list([])\n",
        "print(type(my_list))\n",
        "my_list"
      ]
    },
    {
      "cell_type": "code",
      "execution_count": 28,
      "metadata": {},
      "outputs": [
        {
          "ename": "TypeError",
          "evalue": "'int' object is not iterable",
          "output_type": "error",
          "traceback": [
            "\u001b[31m---------------------------------------------------------------------------\u001b[39m",
            "\u001b[31mTypeError\u001b[39m                                 Traceback (most recent call last)",
            "\u001b[36mCell\u001b[39m\u001b[36m \u001b[39m\u001b[32mIn[28]\u001b[39m\u001b[32m, line 1\u001b[39m\n\u001b[32m----> \u001b[39m\u001b[32m1\u001b[39m my_list = \u001b[38;5;28;43mlist\u001b[39;49m\u001b[43m(\u001b[49m\u001b[32;43m1\u001b[39;49m\u001b[43m)\u001b[49m \u001b[38;5;66;03m#this will raise an error because list() expects an iterable, not a single integer\u001b[39;00m\n\u001b[32m      2\u001b[39m my_list = \u001b[38;5;28mlist\u001b[39m([\u001b[32m1\u001b[39m]) \u001b[38;5;66;03m#is the correct way to create a list with one element\u001b[39;00m\n",
            "\u001b[31mTypeError\u001b[39m: 'int' object is not iterable"
          ]
        }
      ],
      "source": [
        "my_list = list(1) #this will raise an error because list() expects an iterable, not a single integer\n",
        "my_list = list([1]) #is the correct way to create a list with one element\n"
      ]
    },
    {
      "cell_type": "code",
      "execution_count": 19,
      "metadata": {
        "id": "xAA8i0rcDMiW"
      },
      "outputs": [
        {
          "name": "stdout",
          "output_type": "stream",
          "text": [
            "<class 'list'>\n",
            "items are ['Banana', 'Apple', 'Mango', 'Banana']\n",
            "items are Banana , Apple , Mango , Banana\n"
          ]
        }
      ],
      "source": [
        "# list creation\n",
        "items = [\"Banana\", \"Apple\" , \"Mango\", \"Banana\"]\n",
        "print(type(items))\n",
        "print(f\"items are {items}\")\n",
        "print(f\"items are {items[0]} , {items[1]} , {items[2]} , {items[3]}\")"
      ]
    },
    {
      "cell_type": "code",
      "execution_count": 31,
      "metadata": {
        "id": "XMtPugEODQv6"
      },
      "outputs": [
        {
          "name": "stdout",
          "output_type": "stream",
          "text": [
            "the number of elements inside the list is 6\n"
          ]
        }
      ],
      "source": [
        "# Count the number of elements inside the list\n",
        "items = [\"Banana\", \"Apple\" , \"Mango\", \"Banana\" , \"\" ,5]\n",
        "print(f\"the number of elements inside the list is {len(items)}\")"
      ]
    },
    {
      "cell_type": "code",
      "execution_count": 32,
      "metadata": {
        "id": "i-o4T341DR36"
      },
      "outputs": [
        {
          "name": "stdout",
          "output_type": "stream",
          "text": [
            "Banana\n"
          ]
        }
      ],
      "source": [
        "#Read\n",
        "items = [\"Banana\", \"Apple\" , \"Mango\", \"Apple\"]\n",
        "print(items[0])"
      ]
    },
    {
      "cell_type": "code",
      "execution_count": 35,
      "metadata": {
        "id": "VhiGWCi3Disd"
      },
      "outputs": [
        {
          "name": "stdout",
          "output_type": "stream",
          "text": [
            "first element is Banana\n",
            "--------------------------------------------------\n",
            "first element is Banana\n",
            "--------------------------------------------------\n",
            "last element is Apple\n",
            "--------------------------------------------------\n",
            "last element is Apple\n",
            "--------------------------------------------------\n"
          ]
        }
      ],
      "source": [
        "items = [\"Banana\", \"Apple\" , \"Mango\", \"Apple\"]\n",
        "\n",
        "# Accessing Elements\n",
        "\n",
        "# to access the first element\n",
        "print(\"first element is\", items[0]) # Indexing in python starts at zero NOT ONE\n",
        "print(\"--------------------------------------------------\")\n",
        "\n",
        "# of course we can store it in a varibale\n",
        "first_item = items[0] # ?\n",
        "print(f\"first element is {first_item}\")\n",
        "print(\"--------------------------------------------------\")\n",
        "\n",
        "# to access the last element\n",
        "print(f\"last element is {items[-1]}\")\n",
        "print(\"--------------------------------------------------\")\n",
        "# store it in a variable\n",
        "\n",
        "last_item = items[-1] #or items[len(items)-1]\n",
        "print(f\"last element is {last_item}\")\n",
        "print(\"--------------------------------------------------\")"
      ]
    },
    {
      "cell_type": "code",
      "execution_count": 43,
      "metadata": {
        "id": "B6Rcz3JPDvZN"
      },
      "outputs": [
        {
          "name": "stdout",
          "output_type": "stream",
          "text": [
            "subset items ['Banana', 'Apple']\n",
            "--------------------------------------------------\n",
            "subset items ['Banana', 'Apple']\n",
            "--------------------------------------------------\n",
            "subset items ['Apple', 'Mango']\n",
            "--------------------------------------------------\n",
            "items ['Banana', 'Apple', 'Mango', 'Apple']\n"
          ]
        }
      ],
      "source": [
        "# Slicing list we use : to slice\n",
        "print(f\"subset items {items[:2]}\") # note that it starts from zero until one (2 - 1)\n",
        "print(\"--------------------------------------------------\")\n",
        "# store it in a variable\n",
        "sub_items = items[:2]\n",
        "\n",
        "print(f\"subset items {sub_items}\")\n",
        "print(\"--------------------------------------------------\")\n",
        "print(f\"subset items {items[-3:-1]}\")\n",
        "print(\"--------------------------------------------------\")\n",
        "print(f\"items {items[-4:]}\")"
      ]
    },
    {
      "cell_type": "code",
      "execution_count": 44,
      "metadata": {
        "id": "3mVqPqR_FvEh"
      },
      "outputs": [
        {
          "name": "stdout",
          "output_type": "stream",
          "text": [
            "['batool', 'bob', 45.5, True, '$', 500, 0]\n"
          ]
        }
      ],
      "source": [
        "# Update\n",
        "items = [10,\"bob\", 45.5, True, \"$\", 500, 0]\n",
        "items[0] = \"batool\"\n",
        "print(items)"
      ]
    },
    {
      "cell_type": "code",
      "execution_count": 45,
      "metadata": {
        "id": "FOpupKSuJGTU"
      },
      "outputs": [
        {
          "name": "stdout",
          "output_type": "stream",
          "text": [
            "items after updating first element ---> [12, 'bob', 45.5, True, '$', 500, 0]\n"
          ]
        }
      ],
      "source": [
        "# updating elements\n",
        "\n",
        "#update the first element\n",
        "items[0] = 12\n",
        "print(f\"items after updating first element ---> {items}\")"
      ]
    },
    {
      "cell_type": "code",
      "execution_count": 47,
      "metadata": {},
      "outputs": [
        {
          "name": "stdout",
          "output_type": "stream",
          "text": [
            "items after updating first element to a list ---> [[1, 2, 3], 13, 'desk', True, '$', 500, 0]\n"
          ]
        }
      ],
      "source": [
        "items[0]=[1,2,3]\n",
        "print(f\"items after updating first element to a list ---> {items}\")"
      ]
    },
    {
      "cell_type": "code",
      "execution_count": 48,
      "metadata": {
        "id": "i5WrbCa_JJZo"
      },
      "outputs": [
        {
          "name": "stdout",
          "output_type": "stream",
          "text": [
            "items after updating multiple elements ---> [[1, 2, 3], 13, 'desk', True, '$', 500, 0]\n"
          ]
        }
      ],
      "source": [
        "# update multiple elements\n",
        "\n",
        "items[1:3] = [13, \"desk\"]\n",
        "print(f\"items after updating multiple elements ---> {items}\")"
      ]
    },
    {
      "cell_type": "code",
      "execution_count": 49,
      "metadata": {
        "id": "VUi3_9GFF5g7"
      },
      "outputs": [
        {
          "name": "stdout",
          "output_type": "stream",
          "text": [
            "[13, 'desk', True, '$', 500, 0]\n"
          ]
        }
      ],
      "source": [
        "# Delete element/s\n",
        "\n",
        "del items[0]\n",
        "print(items)"
      ]
    },
    {
      "cell_type": "code",
      "execution_count": 51,
      "metadata": {
        "id": "x9wfQesPGO9K"
      },
      "outputs": [
        {
          "ename": "NameError",
          "evalue": "name 'lst' is not defined",
          "output_type": "error",
          "traceback": [
            "\u001b[31m---------------------------------------------------------------------------\u001b[39m",
            "\u001b[31mNameError\u001b[39m                                 Traceback (most recent call last)",
            "\u001b[36mCell\u001b[39m\u001b[36m \u001b[39m\u001b[32mIn[51]\u001b[39m\u001b[32m, line 5\u001b[39m\n\u001b[32m      3\u001b[39m lst = [\u001b[32m1\u001b[39m,\u001b[32m2\u001b[39m,\u001b[32m3\u001b[39m]\n\u001b[32m      4\u001b[39m \u001b[38;5;28;01mdel\u001b[39;00m lst\n\u001b[32m----> \u001b[39m\u001b[32m5\u001b[39m \u001b[38;5;28mprint\u001b[39m(\u001b[43mlst\u001b[49m)  \u001b[38;5;66;03m# This will raise an error because lst has been deleted\u001b[39;00m\n",
            "\u001b[31mNameError\u001b[39m: name 'lst' is not defined"
          ]
        }
      ],
      "source": [
        "# Delete list\n",
        "\n",
        "lst = [1,2,3]\n",
        "del lst\n",
        "print(lst)  # This will raise an error because lst has been deleted"
      ]
    },
    {
      "cell_type": "markdown",
      "metadata": {
        "id": "hepwLLwnD0WU"
      },
      "source": [
        "\n",
        "\n",
        "---\n",
        "\n",
        "\n",
        "Task #1:\n",
        "\n",
        "Define a list of 6 items and print the number of items inside the list, second element, second last element and use slicing to print out the second element until the third one.\n",
        "\n",
        "---\n",
        "\n"
      ]
    },
    {
      "cell_type": "code",
      "execution_count": 57,
      "metadata": {},
      "outputs": [
        {
          "name": "stdout",
          "output_type": "stream",
          "text": [
            "The number of items inside the list is 6\n",
            "The second element is banana\n",
            "The second last element is False\n",
            "The second and third elements are ['banana', ['a', 'b', 'c']]\n"
          ]
        }
      ],
      "source": [
        "lst=[15,'banana',['a','b','c'],19.8,False,'hello']\n",
        "print(f\"The number of items inside the list is {len(lst)}\")\n",
        "print(f\"The second element is {lst[1]}\")\n",
        "print(f\"The second last element is {lst[-2]}\")\n",
        "print(f\"The second and third elements are {lst[1:3]}\")\n"
      ]
    },
    {
      "cell_type": "markdown",
      "metadata": {
        "id": "WMbPqCPrED6I"
      },
      "source": [
        "# list built-in functions"
      ]
    },
    {
      "cell_type": "code",
      "execution_count": 69,
      "metadata": {
        "id": "aIpJToALEFB0"
      },
      "outputs": [],
      "source": [
        "items = [10,\"bob\", 45.5, True, \"$\", 500, 0]"
      ]
    },
    {
      "cell_type": "code",
      "execution_count": 65,
      "metadata": {
        "id": "zoXC8QfLENr8"
      },
      "outputs": [
        {
          "name": "stdout",
          "output_type": "stream",
          "text": [
            "items after appending ---> [10, 'bob', 45.5, True, '$', 500, 0, 30, [1, 5, 54], 30, [1, 5, 54]]\n"
          ]
        }
      ],
      "source": [
        "# Adding elements to lists using (append)\n",
        "\n",
        "items.append(30) # note that you can't append multiple items and it appends to the end of the list\n",
        "items.append([1,5,54])\n",
        "print(f\"items after appending ---> {items}\")"
      ]
    },
    {
      "cell_type": "code",
      "execution_count": 67,
      "metadata": {
        "id": "MCAdo5WvEQX2"
      },
      "outputs": [
        {
          "name": "stdout",
          "output_type": "stream",
          "text": [
            "items after inserting ---> ['good morning', 10, 'bob', 'friends', 'friends', 45.5, True, '$', 500, 0, 30, [1, 5, 54], 30, [1, 5, 54]]\n"
          ]
        }
      ],
      "source": [
        "# Adding element into a certain position (insert)\n",
        "\n",
        "items.insert(2, \"friends\")\n",
        "items.insert(0, \"good morning\")\n",
        "print(f\"items after inserting ---> {items}\")"
      ]
    },
    {
      "cell_type": "code",
      "execution_count": null,
      "metadata": {
        "id": "Us7IMoXFERnH"
      },
      "outputs": [
        {
          "name": "stdout",
          "output_type": "stream",
          "text": [
            "items after extending ---> [10, 'bob', 45.5, True, '$', 500, 0, 6, 1, True]\n"
          ]
        }
      ],
      "source": [
        "# Add multi-elements to end the list (extend)\n",
        "\n",
        "items.extend([6, 1, True]) #appends to the end of the list\n",
        "print(f\"items after extending ---> {items}\")"
      ]
    },
    {
      "cell_type": "code",
      "execution_count": 71,
      "metadata": {
        "id": "Jhhsx8jeEVMp"
      },
      "outputs": [
        {
          "name": "stdout",
          "output_type": "stream",
          "text": [
            "items after removing ---> [10, 45.5, True, '$', 500, 0, 6, 1, True]\n"
          ]
        }
      ],
      "source": [
        "# removing items\n",
        "\n",
        "items.remove(\"bob\") # it removes only one element\n",
        "print(f\"items after removing ---> {items}\")"
      ]
    },
    {
      "cell_type": "code",
      "execution_count": 72,
      "metadata": {
        "id": "vgeOcHZOEfMr"
      },
      "outputs": [
        {
          "name": "stdout",
          "output_type": "stream",
          "text": [
            "items after removing using pop function ---> [10, 45.5, True, '$', 500, 0, 6, 1]\n"
          ]
        }
      ],
      "source": [
        "# removing items\n",
        "\n",
        "items.pop() # by default it removes the last item\n",
        "print(f\"items after removing using pop function ---> {items}\")"
      ]
    },
    {
      "cell_type": "code",
      "execution_count": 73,
      "metadata": {
        "id": "pGEYhyiiElF2"
      },
      "outputs": [
        {
          "name": "stdout",
          "output_type": "stream",
          "text": [
            "popped value is 1\n",
            "--------------------------------------\n",
            "items after removing using pop function ---> [10, 45.5, True, '$', 500, 0, 6]\n"
          ]
        }
      ],
      "source": [
        "# Note that you can store the popped value into a variable\n",
        "popped_value = items.pop()\n",
        "\n",
        "print(f\"popped value is {popped_value}\")\n",
        "print(\"--------------------------------------\")\n",
        "print(f\"items after removing using pop function ---> {items}\")"
      ]
    },
    {
      "cell_type": "code",
      "execution_count": 77,
      "metadata": {},
      "outputs": [
        {
          "name": "stdout",
          "output_type": "stream",
          "text": [
            "popped value is 45.5\n",
            "--------------------------------------\n",
            "items after removing using pop function ---> [10, True, '$', 500, 0, 6]\n"
          ]
        }
      ],
      "source": [
        "popped_value = items.pop(1) # you can also specify the index of the item to be removed\n",
        "\n",
        "print(f\"popped value is {popped_value}\")\n",
        "print(\"--------------------------------------\")\n",
        "print(f\"items after removing using pop function ---> {items}\")"
      ]
    },
    {
      "cell_type": "code",
      "execution_count": 78,
      "metadata": {
        "id": "bwvhAuGXEn7v"
      },
      "outputs": [],
      "source": [
        "batool = [\"buy coffee\", \"call mom\", \"finish report\"]"
      ]
    },
    {
      "cell_type": "code",
      "execution_count": 79,
      "metadata": {
        "id": "H68HDFnEEq2W"
      },
      "outputs": [
        {
          "name": "stdout",
          "output_type": "stream",
          "text": [
            "finish report\n",
            "['buy coffee', 'call mom']\n"
          ]
        }
      ],
      "source": [
        "print(batool.pop())\n",
        "print(batool)"
      ]
    },
    {
      "cell_type": "code",
      "execution_count": 80,
      "metadata": {
        "id": "7L1cV6bFEtf7"
      },
      "outputs": [
        {
          "name": "stdout",
          "output_type": "stream",
          "text": [
            "call mom\n",
            "['buy coffee', 'finish report']\n",
            "buy coffee\n",
            "['finish report']\n"
          ]
        }
      ],
      "source": [
        "# why pop ?\n",
        "\n",
        "items = [\"buy coffee\", \"call mom\", \"finish report\"]\n",
        "popped_item = items.pop(1)\n",
        "\n",
        "print(popped_item)\n",
        "\n",
        "print(items)\n",
        "x = items.pop(0)\n",
        "print(x)\n",
        "print(items)"
      ]
    },
    {
      "cell_type": "markdown",
      "metadata": {
        "id": "PebjZXgYEyFQ"
      },
      "source": [
        "\n",
        "\n",
        "---\n",
        "\n",
        "Task #2:\n",
        "\n",
        "Define a list of numbers [1,2,3] and then use append method to add 4 and use insert to add 5 at position 1 expected output [1,5,2,3,4]\n",
        "\n",
        "\n",
        "---\n",
        "\n"
      ]
    },
    {
      "cell_type": "code",
      "execution_count": 81,
      "metadata": {},
      "outputs": [
        {
          "name": "stdout",
          "output_type": "stream",
          "text": [
            "[1, 5, 2, 3, 4]\n"
          ]
        }
      ],
      "source": [
        "my_list = [1, 2, 3,]\n",
        "my_list.append(4)\n",
        "my_list.insert(1, 5)\n",
        "print(my_list)"
      ]
    },
    {
      "cell_type": "code",
      "execution_count": 82,
      "metadata": {
        "id": "8TKCNMvLFExf"
      },
      "outputs": [
        {
          "name": "stdout",
          "output_type": "stream",
          "text": [
            "after sorting ---> [2, 4, 50, 87, 95, 100] \n"
          ]
        }
      ],
      "source": [
        "# sorting lists\n",
        "my_list = [100,4,2,50,87,95]\n",
        "\n",
        "# Sorting using sort() function\n",
        "my_list.sort()\n",
        "print(f\"after sorting ---> {my_list} \")"
      ]
    },
    {
      "cell_type": "code",
      "execution_count": 83,
      "metadata": {
        "id": "YjDPR328FKLA"
      },
      "outputs": [
        {
          "name": "stdout",
          "output_type": "stream",
          "text": [
            "after sorting ---> [100, 95, 87, 50, 4, 2] \n"
          ]
        }
      ],
      "source": [
        "my_list.sort(reverse= True)\n",
        "print(f\"after sorting ---> {my_list} \")"
      ]
    },
    {
      "cell_type": "code",
      "execution_count": 84,
      "metadata": {
        "id": "LZx9Fj_1FPK-"
      },
      "outputs": [
        {
          "name": "stdout",
          "output_type": "stream",
          "text": [
            "['Ammar', 'Mohammad', 'Omar']\n"
          ]
        }
      ],
      "source": [
        "names = [\"Omar\", \"Mohammad\", \"Ammar\"]\n",
        "names.sort()\n",
        "print(names)"
      ]
    },
    {
      "cell_type": "code",
      "execution_count": 85,
      "metadata": {
        "id": "gCVEcfZJFSCo"
      },
      "outputs": [
        {
          "name": "stdout",
          "output_type": "stream",
          "text": [
            "[7, 5, 10, 3, 2, 3]\n"
          ]
        }
      ],
      "source": [
        "# Reverse list\n",
        "lst = [3,2,3,10,5,7]\n",
        "\n",
        "lst.reverse()\n",
        "print(lst)"
      ]
    },
    {
      "cell_type": "code",
      "execution_count": 89,
      "metadata": {
        "id": "H22FDYfzFVAF"
      },
      "outputs": [
        {
          "name": "stdout",
          "output_type": "stream",
          "text": [
            "True\n",
            "False\n",
            "False\n"
          ]
        }
      ],
      "source": [
        "# Check if a specific element exists in a list\n",
        "values = [\"data\" , 'sql', 'ML']\n",
        "\n",
        "print(\"data\" in values)\n",
        "print(\"python\" in values)\n",
        "print(\"DATA\" in values)"
      ]
    },
    {
      "cell_type": "code",
      "execution_count": 91,
      "metadata": {
        "id": "Wdsa4-d8FXlZ"
      },
      "outputs": [
        {
          "name": "stdout",
          "output_type": "stream",
          "text": [
            "0\n"
          ]
        },
        {
          "ename": "ValueError",
          "evalue": "'Data' is not in list",
          "output_type": "error",
          "traceback": [
            "\u001b[31m---------------------------------------------------------------------------\u001b[39m",
            "\u001b[31mValueError\u001b[39m                                Traceback (most recent call last)",
            "\u001b[36mCell\u001b[39m\u001b[36m \u001b[39m\u001b[32mIn[91]\u001b[39m\u001b[32m, line 5\u001b[39m\n\u001b[32m      3\u001b[39m values = [\u001b[33m\"\u001b[39m\u001b[33mdata\u001b[39m\u001b[33m\"\u001b[39m , \u001b[33m'\u001b[39m\u001b[33msql\u001b[39m\u001b[33m'\u001b[39m, \u001b[33m'\u001b[39m\u001b[33mML\u001b[39m\u001b[33m'\u001b[39m]\n\u001b[32m      4\u001b[39m \u001b[38;5;28mprint\u001b[39m(values.index(\u001b[33m\"\u001b[39m\u001b[33mdata\u001b[39m\u001b[33m\"\u001b[39m))\n\u001b[32m----> \u001b[39m\u001b[32m5\u001b[39m \u001b[38;5;28mprint\u001b[39m(\u001b[43mvalues\u001b[49m\u001b[43m.\u001b[49m\u001b[43mindex\u001b[49m\u001b[43m(\u001b[49m\u001b[33;43m\"\u001b[39;49m\u001b[33;43mData\u001b[39;49m\u001b[33;43m\"\u001b[39;49m\u001b[43m)\u001b[49m) \u001b[38;5;66;03m# This will raise an error because \"Data\" is not in the list\u001b[39;00m\n",
            "\u001b[31mValueError\u001b[39m: 'Data' is not in list"
          ]
        }
      ],
      "source": [
        "# Find the index of a specific element in list\n",
        "\n",
        "values = [\"data\" , 'sql', 'ML']\n",
        "print(values.index(\"data\"))\n",
        "print(values.index(\"Data\")) # This will raise an error because \"Data\" is not in the list"
      ]
    },
    {
      "cell_type": "code",
      "execution_count": 92,
      "metadata": {
        "id": "3gaOV_kZKBlW"
      },
      "outputs": [
        {
          "name": "stdout",
          "output_type": "stream",
          "text": [
            "sum of elements is  45\n",
            "maximum number is 20\n",
            "minimum number is 10\n"
          ]
        }
      ],
      "source": [
        "# another built-in functions\n",
        "\n",
        "lst = [20,10,15]\n",
        "\n",
        "# sum : to sum the elements\n",
        "\n",
        "print(\"sum of elements is \", sum(lst))\n",
        "\n",
        "# max: max number of the list\n",
        "max_lst = max(lst)\n",
        "print(f\"maximum number is {max_lst}\")\n",
        "\n",
        "# min: min number of the list\n",
        "min_lst = min(lst)\n",
        "print(f\"minimum number is {min_lst}\")"
      ]
    },
    {
      "cell_type": "code",
      "execution_count": 95,
      "metadata": {},
      "outputs": [
        {
          "name": "stdout",
          "output_type": "stream",
          "text": [
            "sum of elements is  45.92\n",
            "maximum number is 20.12\n",
            "minimum number is 10.5\n"
          ]
        }
      ],
      "source": [
        "lst = [15.3, 10.5, 20.12]\n",
        "\n",
        "# sum : to sum the elements\n",
        "\n",
        "print(\"sum of elements is \", sum(lst))\n",
        "\n",
        "# max: max number of the list\n",
        "max_lst = max(lst)\n",
        "print(f\"maximum number is {max_lst}\")\n",
        "\n",
        "# min: min number of the list\n",
        "min_lst = min(lst)\n",
        "print(f\"minimum number is {min_lst}\")"
      ]
    },
    {
      "cell_type": "code",
      "execution_count": 94,
      "metadata": {},
      "outputs": [
        {
          "ename": "TypeError",
          "evalue": "unsupported operand type(s) for +: 'int' and 'str'",
          "output_type": "error",
          "traceback": [
            "\u001b[31m---------------------------------------------------------------------------\u001b[39m",
            "\u001b[31mTypeError\u001b[39m                                 Traceback (most recent call last)",
            "\u001b[36mCell\u001b[39m\u001b[36m \u001b[39m\u001b[32mIn[94]\u001b[39m\u001b[32m, line 5\u001b[39m\n\u001b[32m      1\u001b[39m lst = [\u001b[33m\"\u001b[39m\u001b[33m1\u001b[39m\u001b[33m\"\u001b[39m, \u001b[33m\"\u001b[39m\u001b[33m2\u001b[39m\u001b[33m\"\u001b[39m, \u001b[33m\"\u001b[39m\u001b[33m3\u001b[39m\u001b[33m\"\u001b[39m, \u001b[33m\"\u001b[39m\u001b[33m4\u001b[39m\u001b[33m\"\u001b[39m]\n\u001b[32m      3\u001b[39m \u001b[38;5;66;03m# sum : to sum the elements\u001b[39;00m\n\u001b[32m----> \u001b[39m\u001b[32m5\u001b[39m \u001b[38;5;28mprint\u001b[39m(\u001b[33m\"\u001b[39m\u001b[33msum of elements is \u001b[39m\u001b[33m\"\u001b[39m, \u001b[38;5;28;43msum\u001b[39;49m\u001b[43m(\u001b[49m\u001b[43mlst\u001b[49m\u001b[43m)\u001b[49m)\n\u001b[32m      7\u001b[39m \u001b[38;5;66;03m# max: max number of the list\u001b[39;00m\n\u001b[32m      8\u001b[39m max_lst = \u001b[38;5;28mmax\u001b[39m(lst)\n",
            "\u001b[31mTypeError\u001b[39m: unsupported operand type(s) for +: 'int' and 'str'"
          ]
        }
      ],
      "source": [
        "lst = [\"1\", \"2\", \"3\", \"4\"]\n",
        "\n",
        "# sum : to sum the elements\n",
        "\n",
        "print(\"sum of elements is \", sum(lst))\n",
        "\n",
        "# max: max number of the list\n",
        "max_lst = max(lst)\n",
        "print(f\"maximum number is {max_lst}\")\n",
        "\n",
        "# min: min number of the list\n",
        "min_lst = min(lst)\n",
        "print(f\"minimum number is {min_lst}\")"
      ]
    },
    {
      "cell_type": "markdown",
      "metadata": {
        "id": "BoR3UQTfJQ3I"
      },
      "source": [
        "# Nested List"
      ]
    },
    {
      "cell_type": "code",
      "execution_count": 96,
      "metadata": {
        "id": "3n1t48wkJTyg"
      },
      "outputs": [
        {
          "name": "stdout",
          "output_type": "stream",
          "text": [
            "5\n"
          ]
        }
      ],
      "source": [
        "lst = [1, [4,5,6] , [\"mark\" , 'bob', 'ross']]\n",
        "\n",
        "print(lst[1][1])"
      ]
    },
    {
      "cell_type": "code",
      "execution_count": 97,
      "metadata": {},
      "outputs": [
        {
          "ename": "TypeError",
          "evalue": "'int' object is not subscriptable",
          "output_type": "error",
          "traceback": [
            "\u001b[31m---------------------------------------------------------------------------\u001b[39m",
            "\u001b[31mTypeError\u001b[39m                                 Traceback (most recent call last)",
            "\u001b[36mCell\u001b[39m\u001b[36m \u001b[39m\u001b[32mIn[97]\u001b[39m\u001b[32m, line 1\u001b[39m\n\u001b[32m----> \u001b[39m\u001b[32m1\u001b[39m \u001b[38;5;28mprint\u001b[39m(\u001b[43mlst\u001b[49m\u001b[43m[\u001b[49m\u001b[32;43m0\u001b[39;49m\u001b[43m]\u001b[49m\u001b[43m[\u001b[49m\u001b[32;43m0\u001b[39;49m\u001b[43m]\u001b[49m)\n",
            "\u001b[31mTypeError\u001b[39m: 'int' object is not subscriptable"
          ]
        }
      ],
      "source": [
        "print(lst[0][0])"
      ]
    },
    {
      "cell_type": "code",
      "execution_count": 99,
      "metadata": {},
      "outputs": [
        {
          "name": "stdout",
          "output_type": "stream",
          "text": [
            "mark\n"
          ]
        }
      ],
      "source": [
        "print(lst[2][0])"
      ]
    },
    {
      "cell_type": "code",
      "execution_count": 100,
      "metadata": {},
      "outputs": [
        {
          "name": "stdout",
          "output_type": "stream",
          "text": [
            "a\n"
          ]
        }
      ],
      "source": [
        "print(lst[2][0][1])"
      ]
    },
    {
      "cell_type": "code",
      "execution_count": 107,
      "metadata": {
        "id": "mKWMb9v5JdIE"
      },
      "outputs": [
        {
          "name": "stdout",
          "output_type": "stream",
          "text": [
            "Tuesday's tasks: ['Development', 'Team stand-up', 'Client call']\n",
            "Saturday's tasks: ['Weekend break']\n"
          ]
        }
      ],
      "source": [
        "# Schedule for a week\n",
        "schedule = [\n",
        "    [\"Meeting with team\", \"Code review\", \"Lunch with client\"], # Sunday\n",
        "    [\"Project planning\", \"Write documentation\"],               # Monday\n",
        "    [\"Development\", \"Team stand-up\", \"Client call\"],           # Tuesday\n",
        "    [\"Testing\", \"Bug fixing\", \"Team meeting\"],                 # Wednesday\n",
        "    [\"Deployment\", \"Write report\"],                            # Thursday\n",
        "    [\"Weekend break\"],                                         # Friday\n",
        "    [\"Weekend break\"]                                          # Saturday\n",
        "]\n",
        "\n",
        "# accessing tasks for a specific day\n",
        "Tuesday_tasks = schedule[2]\n",
        "Saturday_tasks = schedule[6]\n",
        "print(\"Tuesday's tasks:\", Tuesday_tasks)\n",
        "print(\"Saturday's tasks:\", Saturday_tasks)"
      ]
    },
    {
      "cell_type": "code",
      "execution_count": 108,
      "metadata": {
        "id": "sZJrEfjxJhbr"
      },
      "outputs": [
        {
          "name": "stdout",
          "output_type": "stream",
          "text": [
            "Wednesday's updated tasks: ['Testing', 'Bug fixing', 'Team meeting', 'Prepare presentation']\n"
          ]
        }
      ],
      "source": [
        "# adding a new task to Wednesday\n",
        "schedule[3].append(\"Prepare presentation\")\n",
        "print(\"Wednesday's updated tasks:\", schedule[3])"
      ]
    },
    {
      "cell_type": "code",
      "execution_count": 109,
      "metadata": {
        "id": "b9jaENmtJjLk"
      },
      "outputs": [
        {
          "name": "stdout",
          "output_type": "stream",
          "text": [
            "Sunday's updated tasks: ['Meeting with team', 'Code review']\n"
          ]
        }
      ],
      "source": [
        "# removing a task from Sunday\n",
        "schedule[0].remove(\"Lunch with client\")\n",
        "print(\"Sunday's updated tasks:\", schedule[0])"
      ]
    },
    {
      "cell_type": "markdown",
      "metadata": {
        "id": "TdEEMUP8Jovt"
      },
      "source": [
        "\n",
        "\n",
        "---\n",
        "\n",
        "Task #3:\n",
        "\n",
        "You have the following nested list: nested_list = [[1, 2, 3], [4, 5, 6], [7, 8, 9]]\n",
        "\n",
        "\n",
        "1.   Access the number 5 from the nested list and assign it to a variable named number, print the variable number.\n",
        "2.   Append number 10 to the last list inside nested_list, Print the updated nested_list."
      ]
    },
    {
      "cell_type": "code",
      "execution_count": 112,
      "metadata": {},
      "outputs": [
        {
          "name": "stdout",
          "output_type": "stream",
          "text": [
            "The number is: 5\n",
            "The updated nested list is: [[1, 2, 3], [4, 5, 6], [7, 8, 9, 10]]\n"
          ]
        }
      ],
      "source": [
        "nested_list = [[1, 2, 3], [4, 5, 6], [7, 8, 9]]\n",
        "# 1\n",
        "number = nested_list[1][1]\n",
        "print(f\"The number is: {number}\")\n",
        "# 2\n",
        "nested_list[2].append(10)\n",
        "print(f\"The updated nested list is: {nested_list}\")"
      ]
    },
    {
      "cell_type": "markdown",
      "metadata": {
        "id": "NUs5SBgMKbnP"
      },
      "source": [
        "# Tuples"
      ]
    },
    {
      "cell_type": "markdown",
      "metadata": {
        "id": "ig6nXm3WHVha"
      },
      "source": [
        "*   Python tuples use parentheses () to contain and organize items.\n",
        "\n",
        "*   Ordered: Items are arranged in a specific sequence.\n",
        "\n",
        "*  Unchangeable: Once created, you cannot modify, add, or remove items in a tuple.\n",
        "\n",
        "*   Allows Duplicates: You can have multiple identical items in a tuple.\n",
        "\n",
        "\n",
        "---\n",
        "CRUD Operations\n",
        "   - Create: `t = (1, 2, 3, 4, 5)`\n",
        "   - Read: `t[0]` (This returns the first element of the tuple.)\n",
        "   - Update: Tuples are immutable, so they cannot be updated. However, we can concatenate them or reassign the variable.\n",
        "   - Delete: `del t` (You can't delete an element of a tuple, but you can delete the entire tuple.)\n"
      ]
    },
    {
      "cell_type": "code",
      "execution_count": 113,
      "metadata": {
        "id": "PzaVuhkJKfk_"
      },
      "outputs": [
        {
          "name": "stdout",
          "output_type": "stream",
          "text": [
            "<class 'tuple'>\n"
          ]
        }
      ],
      "source": [
        "# Create an empty tuple\n",
        "\n",
        "my_tuple = tuple()\n",
        "print(type(my_tuple))  "
      ]
    },
    {
      "cell_type": "code",
      "execution_count": 132,
      "metadata": {},
      "outputs": [
        {
          "ename": "TypeError",
          "evalue": "'int' object is not iterable",
          "output_type": "error",
          "traceback": [
            "\u001b[31m---------------------------------------------------------------------------\u001b[39m",
            "\u001b[31mTypeError\u001b[39m                                 Traceback (most recent call last)",
            "\u001b[36mCell\u001b[39m\u001b[36m \u001b[39m\u001b[32mIn[132]\u001b[39m\u001b[32m, line 1\u001b[39m\n\u001b[32m----> \u001b[39m\u001b[32m1\u001b[39m my_tuple1 = \u001b[38;5;28;43mtuple\u001b[39;49m\u001b[43m(\u001b[49m\u001b[32;43m0\u001b[39;49m\u001b[43m)\u001b[49m    \u001b[38;5;66;03m# this will raise an error because 0 is not iterable\u001b[39;00m\n\u001b[32m      2\u001b[39m \u001b[38;5;28mprint\u001b[39m(\u001b[38;5;28mtype\u001b[39m(my_tuple1))\n",
            "\u001b[31mTypeError\u001b[39m: 'int' object is not iterable"
          ]
        }
      ],
      "source": [
        "my_tuple1 = tuple(0)    # this will raise an error because 0 is not iterable\n",
        "print(type(my_tuple1))"
      ]
    },
    {
      "cell_type": "code",
      "execution_count": null,
      "metadata": {},
      "outputs": [
        {
          "ename": "TypeError",
          "evalue": "tuple expected at most 1 argument, got 2",
          "output_type": "error",
          "traceback": [
            "\u001b[31m---------------------------------------------------------------------------\u001b[39m",
            "\u001b[31mTypeError\u001b[39m                                 Traceback (most recent call last)",
            "\u001b[36mCell\u001b[39m\u001b[36m \u001b[39m\u001b[32mIn[131]\u001b[39m\u001b[32m, line 1\u001b[39m\n\u001b[32m----> \u001b[39m\u001b[32m1\u001b[39m my_tuple2 = \u001b[38;5;28;43mtuple\u001b[39;49m\u001b[43m(\u001b[49m\u001b[32;43m1\u001b[39;49m\u001b[43m,\u001b[49m\u001b[32;43m0\u001b[39;49m\u001b[43m)\u001b[49m    \u001b[38;5;66;03m# this will raise an error because tuples are immutable \u001b[39;00m\n\u001b[32m      2\u001b[39m \u001b[38;5;28mprint\u001b[39m(\u001b[38;5;28mtype\u001b[39m(my_tuple2)) \n",
            "\u001b[31mTypeError\u001b[39m: tuple expected at most 1 argument, got 2"
          ]
        }
      ],
      "source": [
        "my_tuple2 = tuple(1,0)    \n",
        "print(type(my_tuple2)) "
      ]
    },
    {
      "cell_type": "code",
      "execution_count": 135,
      "metadata": {},
      "outputs": [
        {
          "name": "stdout",
          "output_type": "stream",
          "text": [
            "<class 'tuple'>\n",
            "(1,)\n"
          ]
        }
      ],
      "source": [
        "my_tuple1 = tuple([1])\n",
        "print(type(my_tuple1))\n",
        "print(my_tuple1)"
      ]
    },
    {
      "cell_type": "code",
      "execution_count": 136,
      "metadata": {},
      "outputs": [
        {
          "name": "stdout",
          "output_type": "stream",
          "text": [
            "<class 'tuple'>\n",
            "(1, 2)\n"
          ]
        }
      ],
      "source": [
        "my_tuple2 = tuple([1,2])\n",
        "print(type(my_tuple2))\n",
        "print(my_tuple2)"
      ]
    },
    {
      "cell_type": "code",
      "execution_count": 137,
      "metadata": {},
      "outputs": [
        {
          "name": "stdout",
          "output_type": "stream",
          "text": [
            "<class 'tuple'>\n"
          ]
        }
      ],
      "source": [
        "my_tuple3 = ()\n",
        "print(type(my_tuple3))"
      ]
    },
    {
      "cell_type": "code",
      "execution_count": 138,
      "metadata": {},
      "outputs": [
        {
          "name": "stdout",
          "output_type": "stream",
          "text": [
            "<class 'int'>\n",
            "<class 'list'>\n",
            "<class 'list'>\n",
            "<class 'tuple'>\n"
          ]
        }
      ],
      "source": [
        "my_tuple3 = (0)\n",
        "print(type(my_tuple3))\n",
        "my_tuple3 = ([0])\n",
        "print(type(my_tuple3))\n",
        "my_tuple3 = ([1,0])\n",
        "print(type(my_tuple3))\n",
        "my_tuple3 = (1,0)\n",
        "print(type(my_tuple3))"
      ]
    },
    {
      "cell_type": "code",
      "execution_count": 139,
      "metadata": {
        "id": "_LhHyqOyJ7gx"
      },
      "outputs": [
        {
          "name": "stdout",
          "output_type": "stream",
          "text": [
            "('abed', '555-1234', 'abed@gmail.com', 1)\n",
            "<class 'tuple'>\n"
          ]
        }
      ],
      "source": [
        "# Create Tuple\n",
        "\n",
        "contact = (\"abed\", \"555-1234\", \"abed@gmail.com\",1)\n",
        "print(contact)\n",
        "print(type(contact))"
      ]
    },
    {
      "cell_type": "code",
      "execution_count": 140,
      "metadata": {
        "id": "L9zx7sXqKsY0"
      },
      "outputs": [
        {
          "name": "stdout",
          "output_type": "stream",
          "text": [
            "abed\n",
            "<class 'str'>\n"
          ]
        }
      ],
      "source": [
        "# Read\n",
        "\n",
        "print(contact[0])\n",
        "print(type(contact[0]))"
      ]
    },
    {
      "cell_type": "code",
      "execution_count": null,
      "metadata": {
        "id": "Jc6GLkNAKwq6"
      },
      "outputs": [
        {
          "ename": "TypeError",
          "evalue": "'tuple' object does not support item assignment",
          "output_type": "error",
          "traceback": [
            "\u001b[31m---------------------------------------------------------------------------\u001b[39m",
            "\u001b[31mTypeError\u001b[39m                                 Traceback (most recent call last)",
            "\u001b[36mCell\u001b[39m\u001b[36m \u001b[39m\u001b[32mIn[141]\u001b[39m\u001b[32m, line 2\u001b[39m\n\u001b[32m      1\u001b[39m \u001b[38;5;66;03m# no update --> cannot modify\u001b[39;00m\n\u001b[32m----> \u001b[39m\u001b[32m2\u001b[39m \u001b[43mcontact\u001b[49m\u001b[43m[\u001b[49m\u001b[32;43m0\u001b[39;49m\u001b[43m]\u001b[49m = \u001b[33m\"\u001b[39m\u001b[33mahmed\u001b[39m\u001b[33m\"\u001b[39m  \u001b[38;5;66;03m# This will raise an error because tuples are immutable\u001b[39;00m\n",
            "\u001b[31mTypeError\u001b[39m: 'tuple' object does not support item assignment"
          ]
        }
      ],
      "source": [
        "# no update --> cannot modify\n",
        "contact[0] = \"ahmed\"  # this will raise an error because tuples are immutable"
      ]
    },
    {
      "cell_type": "code",
      "execution_count": 142,
      "metadata": {
        "id": "OOcu4fUKK8M3"
      },
      "outputs": [
        {
          "name": "stdout",
          "output_type": "stream",
          "text": [
            "True\n",
            "False\n"
          ]
        }
      ],
      "source": [
        "# Check if element exists\n",
        "contact = (\"abed\", \"555-1234\", \"abed@gmail.com\")\n",
        "print(\"abed\" in contact)\n",
        "print(\"Abed\" in contact)"
      ]
    },
    {
      "cell_type": "code",
      "execution_count": null,
      "metadata": {},
      "outputs": [
        {
          "ename": "NameError",
          "evalue": "name 'my_tuple' is not defined",
          "output_type": "error",
          "traceback": [
            "\u001b[31m---------------------------------------------------------------------------\u001b[39m",
            "\u001b[31mNameError\u001b[39m                                 Traceback (most recent call last)",
            "\u001b[36mCell\u001b[39m\u001b[36m \u001b[39m\u001b[32mIn[144]\u001b[39m\u001b[32m, line 1\u001b[39m\n\u001b[32m----> \u001b[39m\u001b[32m1\u001b[39m \u001b[38;5;28;01mdel\u001b[39;00m \u001b[43mmy_tuple\u001b[49m[\u001b[32m0\u001b[39m]  \u001b[38;5;66;03m# This will raise an error because tuples are immutable\u001b[39;00m\n",
            "\u001b[31mNameError\u001b[39m: name 'my_tuple' is not defined"
          ]
        }
      ],
      "source": [
        "del my_tuple[0]  # this will raise an error because tuples are immutable"
      ]
    },
    {
      "cell_type": "code",
      "execution_count": 143,
      "metadata": {
        "id": "qW9BULPoK_KZ"
      },
      "outputs": [],
      "source": [
        "# delete tuple\n",
        "\n",
        "my_tuple =(1,2,3)\n",
        "del my_tuple"
      ]
    },
    {
      "cell_type": "markdown",
      "metadata": {
        "id": "G8qsZmGdLGF4"
      },
      "source": [
        "\n",
        "\n",
        "---\n",
        "\n",
        "\n",
        "Task #4:\n",
        "\n",
        "Create a tuple and print the last element\n",
        "\n",
        "\n",
        "---\n",
        "\n"
      ]
    },
    {
      "cell_type": "code",
      "execution_count": 145,
      "metadata": {},
      "outputs": [
        {
          "name": "stdout",
          "output_type": "stream",
          "text": [
            "The last element is hello\n"
          ]
        }
      ],
      "source": [
        "my_tuple = tuple(['a' , 15 , 13.7 , True, 'hello'])\n",
        "print(f\"The last element is {my_tuple[-1]}\")  "
      ]
    },
    {
      "cell_type": "markdown",
      "metadata": {
        "id": "GbkufAcWLRD0"
      },
      "source": [
        "# Sets"
      ]
    },
    {
      "cell_type": "markdown",
      "metadata": {
        "id": "hUY2CiugHqa8"
      },
      "source": [
        "*   Python sets use curly braces {} to contain and organize items.\n",
        "*   Unordered: Items have no specific sequence (can't be indexed).\n",
        "\n",
        "\n",
        "*   Unchangeable (in terms of items): Once added, individual items cannot be changed, but you can add or remove items from the set as a whole.\n",
        "*   No Duplicates: Sets automatically remove duplicate items, so each item is unique.\n",
        "\n",
        "\n",
        "---\n",
        "CRUD Operations:\n",
        "   - Create: `st = {1, 2, 3, 4, 5}`\n",
        "   - Read: We can't access or change an element of a set using indexing or slicing due to the unordered nature of sets. We can loop through the set or check if an item exists.\n",
        "   - Update: `st.add(6)` (This adds element 6 to the set.); `st.update([7, 8])` (This adds elements 7 and 8 to the set.)\n",
        "   - Delete: `st.remove(1)` (This removes element 1 from the set. If the item does not exist, it raises an error.); `st.discard(2)` (This removes element 2 from the set. If the item does not exist, it does not raise an error.)\n"
      ]
    },
    {
      "cell_type": "code",
      "execution_count": 159,
      "metadata": {},
      "outputs": [
        {
          "name": "stdout",
          "output_type": "stream",
          "text": [
            "<class 'dict'>\n",
            "<class 'set'>\n",
            "<class 'set'>\n",
            "<class 'set'>\n",
            "{1, 2, 3}\n"
          ]
        }
      ],
      "source": [
        "my_set = {}\n",
        "print(type(my_set))  \n",
        "my_set = {1}\n",
        "print(type(my_set))  \n",
        "my_set = set()  \n",
        "print(type(my_set))\n",
        "my_set = set([1,2,3])\n",
        "print(type(my_set))\n",
        "print(my_set)"
      ]
    },
    {
      "cell_type": "code",
      "execution_count": 160,
      "metadata": {
        "id": "A61qUtQYLcqt"
      },
      "outputs": [
        {
          "name": "stdout",
          "output_type": "stream",
          "text": [
            "{1, 2, 3}\n"
          ]
        }
      ],
      "source": [
        "# Set Creation\n",
        "my_set = { 2, 3, 2, 1 , 1 , 1 , 1 , 1 , 1}\n",
        "print(my_set)"
      ]
    },
    {
      "cell_type": "markdown",
      "metadata": {
        "id": "zi6-cUQRLxTM"
      },
      "source": [
        "# Set built-in functions"
      ]
    },
    {
      "cell_type": "code",
      "execution_count": 161,
      "metadata": {
        "id": "kb91S41TL8E2"
      },
      "outputs": [
        {
          "name": "stdout",
          "output_type": "stream",
          "text": [
            "{'Python', 'DL', 'ML'}\n",
            "{'Python', 'DL', 'SQL', 'ML'}\n"
          ]
        }
      ],
      "source": [
        "# adding elements\n",
        "courses = {\"DL\",\"ML\",\"Python\"}\n",
        "print(courses)\n",
        "\n",
        "courses.add(\"SQL\")\n",
        "courses.add(\"ML\") # won't be added because it exists.\n",
        "print(courses)"
      ]
    },
    {
      "cell_type": "code",
      "execution_count": 165,
      "metadata": {
        "id": "VpEFjLY3MTpi"
      },
      "outputs": [
        {
          "name": "stdout",
          "output_type": "stream",
          "text": [
            "{1, 2, 3, 4, 5, 6}\n",
            "{1, 4, 5, 6}\n"
          ]
        }
      ],
      "source": [
        "my_set = {1, 2, 3}\n",
        "another_set = {4, 5, 6, 1}\n",
        "# add multiple elements using update\n",
        "my_set.update(another_set) # no duplicates\n",
        "\n",
        "print(my_set)\n",
        "print(another_set)"
      ]
    },
    {
      "cell_type": "code",
      "execution_count": 166,
      "metadata": {
        "id": "VdRmTVrQMdkr"
      },
      "outputs": [
        {
          "name": "stdout",
          "output_type": "stream",
          "text": [
            "{1, 2, 3, 4, 5, 6}\n"
          ]
        }
      ],
      "source": [
        "another_set.update(my_set)\n",
        "print(another_set)"
      ]
    },
    {
      "cell_type": "code",
      "execution_count": 170,
      "metadata": {
        "id": "mzUdl6nfMfTH"
      },
      "outputs": [
        {
          "name": "stdout",
          "output_type": "stream",
          "text": [
            "{'Python', 'DL', 'SQL', 'ML'}\n",
            "Python\n",
            "{'DL', 'SQL', 'ML'}\n",
            "DL\n",
            "{'SQL', 'ML'}\n"
          ]
        }
      ],
      "source": [
        "# Removing elements\n",
        "\n",
        "courses = {\"DL\",\"ML\",\"Python\",\"SQL\"}\n",
        "print(courses)\n",
        "course = courses.pop() # removes the first element in the set depending on the hash value \n",
        "print(course)\n",
        "print(courses)\n",
        "course = courses.pop() \n",
        "print(course)\n",
        "print(courses)"
      ]
    },
    {
      "cell_type": "code",
      "execution_count": null,
      "metadata": {
        "id": "S29XlwbJMjMI"
      },
      "outputs": [
        {
          "name": "stdout",
          "output_type": "stream",
          "text": [
            "{1, 3, 'SQL'}\n"
          ]
        }
      ],
      "source": [
        "# Remove a specific element from the set. If the element is not found, it raises a KeyError\n",
        "my_set = {1, 2, 3, \"SQL\"}\n",
        "my_set.remove(2)\n",
        "print(my_set)"
      ]
    },
    {
      "cell_type": "code",
      "execution_count": 172,
      "metadata": {
        "id": "Dx2douhLMlh2"
      },
      "outputs": [
        {
          "ename": "KeyError",
          "evalue": "6",
          "output_type": "error",
          "traceback": [
            "\u001b[31m---------------------------------------------------------------------------\u001b[39m",
            "\u001b[31mKeyError\u001b[39m                                  Traceback (most recent call last)",
            "\u001b[36mCell\u001b[39m\u001b[36m \u001b[39m\u001b[32mIn[172]\u001b[39m\u001b[32m, line 1\u001b[39m\n\u001b[32m----> \u001b[39m\u001b[32m1\u001b[39m \u001b[43mmy_set\u001b[49m\u001b[43m.\u001b[49m\u001b[43mremove\u001b[49m\u001b[43m(\u001b[49m\u001b[32;43m6\u001b[39;49m\u001b[43m)\u001b[49m\n",
            "\u001b[31mKeyError\u001b[39m: 6"
          ]
        }
      ],
      "source": [
        "my_set.remove(6)"
      ]
    },
    {
      "cell_type": "code",
      "execution_count": 173,
      "metadata": {
        "id": "-ujJFUIhMq8N"
      },
      "outputs": [
        {
          "data": {
            "text/plain": [
              "{1, 2, 3, 'ammar'}"
            ]
          },
          "execution_count": 173,
          "metadata": {},
          "output_type": "execute_result"
        }
      ],
      "source": [
        "# discard(): also removes a specific element from the set. Unlike remove(), it does not raise an error if the element is not found.\n",
        "my_set = {1, \"python\", 2, 3,\"ammar\"}\n",
        "my_set.discard(\"python\")\n",
        "my_set"
      ]
    },
    {
      "cell_type": "code",
      "execution_count": 174,
      "metadata": {
        "id": "xM1oMxS3N9Cj"
      },
      "outputs": [
        {
          "name": "stdout",
          "output_type": "stream",
          "text": [
            "{1, 2, 3, 'ammar'}\n"
          ]
        }
      ],
      "source": [
        "my_set.discard(6)\n",
        "print(my_set)"
      ]
    },
    {
      "cell_type": "code",
      "execution_count": 175,
      "metadata": {
        "colab": {
          "base_uri": "https://localhost:8080/"
        },
        "id": "xO6YPXjeOGR6",
        "outputId": "03e1e4ff-e3fc-49f7-a0a4-de7ce2f639e9"
      },
      "outputs": [
        {
          "name": "stdout",
          "output_type": "stream",
          "text": [
            "{1, 2, 3, 4, 5}\n"
          ]
        }
      ],
      "source": [
        "# Combining two sets\n",
        "\n",
        "set1 = {1, 2, 3}\n",
        "set2 = {3, 4, 5}\n",
        "result = set2.union(set1)\n",
        "print(result)"
      ]
    },
    {
      "cell_type": "code",
      "execution_count": 176,
      "metadata": {
        "id": "Siqnq-LsOKw-"
      },
      "outputs": [
        {
          "name": "stdout",
          "output_type": "stream",
          "text": [
            "{2, 3}\n"
          ]
        }
      ],
      "source": [
        "# intersection(sets): Returns a new set with elements common to the set and any additional sets provided.\n",
        "set1 = {1, 2, 3}\n",
        "set2 = {2, 3, 4}\n",
        "result = set1.intersection(set2)\n",
        "print(result)"
      ]
    },
    {
      "cell_type": "code",
      "execution_count": 177,
      "metadata": {
        "colab": {
          "base_uri": "https://localhost:8080/"
        },
        "id": "SWyqTPqsOLhf",
        "outputId": "940345fc-89b2-44b4-e341-87b2193262c2"
      },
      "outputs": [
        {
          "name": "stdout",
          "output_type": "stream",
          "text": [
            "{1}\n"
          ]
        }
      ],
      "source": [
        "# difference: Returns a new set with elements in the set that are not in any of the additional sets provided\n",
        "set1 = {1, 2, 3}\n",
        "set2 = {2, 3, 4}\n",
        "result = set1.difference(set2)\n",
        "print(result)"
      ]
    },
    {
      "cell_type": "code",
      "execution_count": 178,
      "metadata": {
        "id": "hVMwGT-WOkKv"
      },
      "outputs": [
        {
          "name": "stdout",
          "output_type": "stream",
          "text": [
            "{4}\n"
          ]
        }
      ],
      "source": [
        "result = set2.difference(set1)\n",
        "print(result)"
      ]
    },
    {
      "cell_type": "code",
      "execution_count": 179,
      "metadata": {
        "id": "EQ_FkXzSOl-H"
      },
      "outputs": [
        {
          "name": "stdout",
          "output_type": "stream",
          "text": [
            "{1, 4}\n"
          ]
        }
      ],
      "source": [
        "# symmetric_difference: Returns a new set with elements in either the set or the provided set\n",
        "\n",
        "set1 = {1, 2, 3}\n",
        "set2 = {2, 3, 4}\n",
        "result = set1.symmetric_difference(set2)\n",
        "print(result)"
      ]
    },
    {
      "cell_type": "code",
      "execution_count": 180,
      "metadata": {
        "id": "php6f_krOsT9"
      },
      "outputs": [
        {
          "name": "stdout",
          "output_type": "stream",
          "text": [
            "False\n"
          ]
        }
      ],
      "source": [
        "# Check if element exists\n",
        "\n",
        "my_set = {1, 2, 3}\n",
        "a = \"1\" in my_set\n",
        "print(a)"
      ]
    },
    {
      "cell_type": "code",
      "execution_count": 181,
      "metadata": {
        "id": "7UXjltvQOpWg"
      },
      "outputs": [
        {
          "name": "stdout",
          "output_type": "stream",
          "text": [
            "True\n"
          ]
        }
      ],
      "source": [
        "b = 1 in my_set\n",
        "print(b)"
      ]
    },
    {
      "cell_type": "code",
      "execution_count": 182,
      "metadata": {
        "id": "6EmaEq-IOqyn"
      },
      "outputs": [],
      "source": [
        "# delete set\n",
        "my_set = {1,2,3}\n",
        "del my_set"
      ]
    },
    {
      "cell_type": "markdown",
      "metadata": {
        "id": "lfDlwjVaO4jh"
      },
      "source": [
        "\n",
        "\n",
        "---\n",
        "\n",
        "Task 5:\n",
        "\n",
        "Create and Add Elements to a Set\n",
        "\n",
        "\n",
        "*   Create an empty set named my_set\n",
        "*   Add the elements 1, 2, and 3 to my_set\n",
        "*   Print the updated set\n",
        "\n",
        "\n",
        "---\n",
        "\n",
        "\n",
        "Task 6:\n",
        "\n",
        "Check element in a Set\n",
        "\n",
        "\n",
        "*   Create set named my_set with the elements 1, 2, 3, and 4\n",
        "*   Check if the element 2 is in my_set and print the result\n",
        "*   Check if the element 5 is in my_set and print the result\n",
        "---\n",
        "\n",
        "\n",
        "\n",
        "Task 7\n",
        "* create 2 sets A , B\n",
        " --> A {'red' , 'blue' , 'green'}\n",
        " --> B {'red', 'pink' , 'yellow'}\n",
        "\n",
        " and apply the following\n",
        "\n",
        " * Apply union and print the result\n",
        "\n",
        " * Apply intersection and print the result\n",
        "\n",
        " * Apply difference and print the result\n",
        "\n",
        " * Apply union and save the value on B set\n",
        "\n",
        " * delete all sets"
      ]
    },
    {
      "cell_type": "code",
      "execution_count": 188,
      "metadata": {},
      "outputs": [
        {
          "name": "stdout",
          "output_type": "stream",
          "text": [
            "<class 'set'>\n",
            "The updated set: {1, 2, 3}\n"
          ]
        }
      ],
      "source": [
        "# Task 5\n",
        "my_set = set()\n",
        "print(type(my_set))\n",
        "\n",
        "my_set.add(1)\n",
        "my_set.add(2)\n",
        "my_set.add(3)\n",
        "\n",
        "print(f\"The updated set: {my_set}\")"
      ]
    },
    {
      "cell_type": "code",
      "execution_count": null,
      "metadata": {},
      "outputs": [
        {
          "name": "stdout",
          "output_type": "stream",
          "text": [
            "True\n",
            "False\n"
          ]
        }
      ],
      "source": [
        "# Task 6\n",
        "my_set = {1, 2, 3, 4}\n",
        "\n",
        "print(2 in my_set)\n",
        "print(5 in my_set)"
      ]
    },
    {
      "cell_type": "code",
      "execution_count": 195,
      "metadata": {},
      "outputs": [
        {
          "name": "stdout",
          "output_type": "stream",
          "text": [
            "{'blue', 'green', 'pink', 'red', 'yellow'}\n",
            "{'red'}\n",
            "{'blue', 'green'}\n",
            "{'blue', 'green', 'pink', 'red', 'yellow'}\n"
          ]
        }
      ],
      "source": [
        "# Task 7\n",
        "A = {'red', 'blue', 'green'}\n",
        "B = {'red', 'pink', 'yellow'}\n",
        "\n",
        "print(A.union(B))\n",
        "print(A.intersection(B))\n",
        "print(A.difference(B))\n",
        "\n",
        "B=A.union(B)\n",
        "print(B)\n",
        "\n",
        "del A,B\n"
      ]
    },
    {
      "cell_type": "markdown",
      "metadata": {
        "id": "XICUiEOPPYqF"
      },
      "source": [
        "# Dictionary"
      ]
    },
    {
      "cell_type": "markdown",
      "metadata": {
        "id": "g8rKKGWmIZks"
      },
      "source": [
        "*   Python dictionaries use curly braces {} with key-value pairs to organize items.\n",
        "\n",
        "* It is unordered, changeable, and indexed by keys.\n",
        "\n",
        "*   Changeable: You can modify, add, or remove key-value pairs after the dictionary is created.\n",
        "\n",
        "*   No Duplicates (in keys): Each key must be unique; you cannot have duplicate keys, but values can be duplicated.\n",
        "\n",
        "---\n",
        "\n",
        "CRUD Operations:\n",
        "   - Create: `d = {\"one\": 1, \"two\": 2, \"three\": 3}`\n",
        "   - Read: `d[\"one\"]` (This returns the value of the key \"one\".)\n",
        "   - Update: `d[\"one\"] = 10` (This changes the value of the key \"one\" to 10.)\n",
        "   - Delete: `del d[\"one\"]` (This removes the key-value pair with the key \"one\".)"
      ]
    },
    {
      "cell_type": "code",
      "execution_count": null,
      "metadata": {
        "id": "XQAZPAA1Pq5D"
      },
      "outputs": [],
      "source": [
        "# Create an empty dictionary\n",
        "\n",
        "my_dict = dict() #or my_dict = {}"
      ]
    },
    {
      "cell_type": "code",
      "execution_count": 197,
      "metadata": {
        "id": "blPp3-W5PWIB"
      },
      "outputs": [
        {
          "name": "stdout",
          "output_type": "stream",
          "text": [
            "{'name': 'Ahmad', 'age': 23}\n"
          ]
        }
      ],
      "source": [
        "Dict = {\"name\": \"batool\",\n",
        "        \"age\": 23,\n",
        "        \"name\": \"Ahmad\"}\n",
        "print(Dict)"
      ]
    },
    {
      "cell_type": "code",
      "execution_count": 199,
      "metadata": {
        "id": "Lwx0sg4-PodM"
      },
      "outputs": [
        {
          "name": "stdout",
          "output_type": "stream",
          "text": [
            "{'name': 'Ammar', 'age': 30, 'city': 'Amman', 'salary': 30}\n"
          ]
        }
      ],
      "source": [
        "my_dict = {\"name\": \"Omar\",\n",
        "           \"age\": 30,\n",
        "           \"city\": \"Amman\" ,\n",
        "           \"salary\":30,\n",
        "           \"name\":\"Ammar\"} # note that no key duplicates\n",
        "print(my_dict)"
      ]
    },
    {
      "cell_type": "code",
      "execution_count": 200,
      "metadata": {
        "id": "Dx3_rvhWPx27"
      },
      "outputs": [
        {
          "name": "stdout",
          "output_type": "stream",
          "text": [
            "Amman\n"
          ]
        }
      ],
      "source": [
        "# Read\n",
        "\n",
        "my_dict = {\"name\": \"Omar\", \"age\": 30, \"city\": \"Amman\"}\n",
        "\n",
        "# access a value\n",
        "print(my_dict['city'])"
      ]
    },
    {
      "cell_type": "code",
      "execution_count": 201,
      "metadata": {
        "id": "dSs0SG_lP750"
      },
      "outputs": [
        {
          "name": "stdout",
          "output_type": "stream",
          "text": [
            "Omar\n"
          ]
        }
      ],
      "source": [
        "#storing to a variable\n",
        "name = my_dict[\"name\"]\n",
        "print(name)"
      ]
    },
    {
      "cell_type": "code",
      "execution_count": 202,
      "metadata": {
        "id": "Adh7kA0oQEEj"
      },
      "outputs": [
        {
          "name": "stdout",
          "output_type": "stream",
          "text": [
            "{'name': 'Omar', 'age': 30, 'city': 'Amman', 'email': 'omar@gmail.com'}\n"
          ]
        }
      ],
      "source": [
        "# adding a new key-value pair\n",
        "my_dict[\"email\"] = \"omar@gmail.com\"\n",
        "print(my_dict)"
      ]
    },
    {
      "cell_type": "code",
      "execution_count": 203,
      "metadata": {
        "id": "pmF8cMQ4QHuG"
      },
      "outputs": [
        {
          "name": "stdout",
          "output_type": "stream",
          "text": [
            "{'name': 'Omar', 'age': 31, 'city': 'Amman', 'email': 'omar@gmail.com'}\n"
          ]
        }
      ],
      "source": [
        "# Update\n",
        "# updating the value for an existing key\n",
        "my_dict[\"age\"] = 31\n",
        "\n",
        "print(my_dict)"
      ]
    },
    {
      "cell_type": "code",
      "execution_count": null,
      "metadata": {
        "id": "RAfKC4ItQLRQ"
      },
      "outputs": [
        {
          "name": "stdout",
          "output_type": "stream",
          "text": [
            "{'name': 'abed', 'Name': 'karam'}\n"
          ]
        }
      ],
      "source": [
        "# no key duplicates\n",
        "\n",
        "my_dict = {\"name\":\"omar\", \"name\":\"noor\",\"name\":\"abed\", \"Name\":\"karam\"} # takes the last value for the key \"name\"\n",
        "print(my_dict)"
      ]
    },
    {
      "cell_type": "markdown",
      "metadata": {
        "id": "LOgGOKknQhDj"
      },
      "source": [
        "# Dictionary built-in functions"
      ]
    },
    {
      "cell_type": "code",
      "execution_count": 213,
      "metadata": {
        "id": "GSiG1Q8CQMcg"
      },
      "outputs": [
        {
          "name": "stdout",
          "output_type": "stream",
          "text": [
            "2\n",
            "{'a': {1, 2}}\n"
          ]
        }
      ],
      "source": [
        "# removing items\n",
        "my_dict = {\"a\": {1,2}, \"b\": 2}\n",
        "value = my_dict.pop(\"b\")\n",
        "\n",
        "print(value)\n",
        "print(my_dict)"
      ]
    },
    {
      "cell_type": "code",
      "execution_count": 214,
      "metadata": {
        "id": "7RCTIwiRQqlJ"
      },
      "outputs": [
        {
          "name": "stdout",
          "output_type": "stream",
          "text": [
            "{1, 2}\n"
          ]
        }
      ],
      "source": [
        "value = my_dict.pop(\"a\") \n",
        "print(value)"
      ]
    },
    {
      "cell_type": "code",
      "execution_count": 215,
      "metadata": {},
      "outputs": [
        {
          "ename": "KeyError",
          "evalue": "'a'",
          "output_type": "error",
          "traceback": [
            "\u001b[31m---------------------------------------------------------------------------\u001b[39m",
            "\u001b[31mKeyError\u001b[39m                                  Traceback (most recent call last)",
            "\u001b[36mCell\u001b[39m\u001b[36m \u001b[39m\u001b[32mIn[215]\u001b[39m\u001b[32m, line 1\u001b[39m\n\u001b[32m----> \u001b[39m\u001b[32m1\u001b[39m value = \u001b[43mmy_dict\u001b[49m\u001b[43m.\u001b[49m\u001b[43mpop\u001b[49m\u001b[43m(\u001b[49m\u001b[33;43m\"\u001b[39;49m\u001b[33;43ma\u001b[39;49m\u001b[33;43m\"\u001b[39;49m\u001b[43m)\u001b[49m \u001b[38;5;66;03m# this will raise an error if the key does not exist\u001b[39;00m\n\u001b[32m      2\u001b[39m \u001b[38;5;28mprint\u001b[39m(value)\n",
            "\u001b[31mKeyError\u001b[39m: 'a'"
          ]
        }
      ],
      "source": [
        "value = my_dict.pop(\"a\") # this will raise an error if the key does not exist\n",
        "print(value)"
      ]
    },
    {
      "cell_type": "code",
      "execution_count": null,
      "metadata": {
        "id": "X70cfG5WQtM-"
      },
      "outputs": [
        {
          "name": "stdout",
          "output_type": "stream",
          "text": [
            "<class 'tuple'>\n",
            "['year', 1964]\n",
            "{'brand': 'Ford', 'model': 'Mustang'}\n"
          ]
        }
      ],
      "source": [
        "car = {\"brand\": \"Ford\",\"model\": \"Mustang\",\"year\": 1964}\n",
        "\n",
        "new = car.popitem() # removes last key-value pair which can be stored in a variable as a tuple\n",
        "print(type(new))\n",
        "print(list(new)) \n",
        "print(car)"
      ]
    },
    {
      "cell_type": "code",
      "execution_count": 221,
      "metadata": {
        "id": "19ddEHcUQzY2"
      },
      "outputs": [
        {
          "name": "stdout",
          "output_type": "stream",
          "text": [
            "dict_keys(['name', 'age', 'city'])\n",
            "['name', 'age', 'city']\n",
            "<class 'dict_keys'>\n"
          ]
        }
      ],
      "source": [
        "# Getting All Keys\n",
        "my_dict = {\"name\": \"Omar\", \"age\": 30, \"city\": \"Amman\", \"name\": \"Batool\"}\n",
        "keys = my_dict.keys()\n",
        "print(keys)\n",
        "print(list(keys))\n",
        "print(type(keys))"
      ]
    },
    {
      "cell_type": "code",
      "execution_count": 222,
      "metadata": {
        "id": "asLAhwMjQ195"
      },
      "outputs": [
        {
          "name": "stdout",
          "output_type": "stream",
          "text": [
            "dict_values([['Omar', 'Batool'], [30, 23], ['Amman', 'Irbid']])\n",
            "[['Omar', 'Batool'], [30, 23], ['Amman', 'Irbid']]\n",
            "<class 'dict_values'>\n"
          ]
        }
      ],
      "source": [
        "# How to get all values ?\n",
        "my_dict = {\"name\": [\"Omar\", \"Batool\"], \"age\": [30, 23], \"city\": [\"Amman\", \"Irbid\"]}\n",
        "values = my_dict.values()\n",
        "print(values)\n",
        "print(list(values))\n",
        "print(type(values))"
      ]
    },
    {
      "cell_type": "code",
      "execution_count": 223,
      "metadata": {
        "id": "UgR5EaXPQ3UM"
      },
      "outputs": [
        {
          "name": "stdout",
          "output_type": "stream",
          "text": [
            "{'name': 'Abed', 'age': 30, 'city': 'Amman', 'phone_number': 555111}\n"
          ]
        }
      ],
      "source": [
        "# Updating multiple values\n",
        "\n",
        "my_dict = {\"name\": \"Omar\", \"age\": 30, \"city\": \"Amman\"}\n",
        "my_dict.update({\"name\":\"Abed\", \"phone_number\": 555111})\n",
        "print(my_dict)"
      ]
    },
    {
      "cell_type": "code",
      "execution_count": 225,
      "metadata": {
        "id": "7sN6NjnKQxQg"
      },
      "outputs": [
        {
          "name": "stdout",
          "output_type": "stream",
          "text": [
            "True\n",
            "False\n",
            "False\n"
          ]
        }
      ],
      "source": [
        "# checking if a Key Exists\n",
        "my_dict = {\"name\": \"Omar\", \"age\": 30, \"city\": \"Amman\"}\n",
        "\n",
        "print(\"name\" in my_dict)\n",
        "print(\"phone\" in my_dict)\n",
        "print(30 in my_dict)"
      ]
    },
    {
      "cell_type": "markdown",
      "metadata": {
        "id": "-OWh1dzgRKyl"
      },
      "source": [
        "\n",
        "\n",
        "---\n",
        "Task 8:\n",
        "\n",
        "- Create a dictionary named student store his name, course , age with thier associated values\n",
        "- Use update function to edit the age, add another item (phone_number)\n",
        "- Delete the course key\n"
      ]
    },
    {
      "cell_type": "code",
      "execution_count": 228,
      "metadata": {},
      "outputs": [
        {
          "name": "stdout",
          "output_type": "stream",
          "text": [
            "{'name': 'Ameen', 'course': 'python', 'age': 22}\n",
            "{'name': 'Ameen', 'course': 'python', 'age': 21, 'phone': '555-1234'}\n",
            "{'name': 'Ameen', 'age': 21, 'phone': '555-1234'}\n"
          ]
        }
      ],
      "source": [
        "student = {\"name\" : \"Ameen\" , \"course\" : 'python' , \"age\" : 22}\n",
        "print(student)\n",
        "\n",
        "student.update({\"age\" : 21 , \"phone\" : \"555-1234\"})\n",
        "print(student)\n",
        "\n",
        "del student[\"course\"]\n",
        "print(student)"
      ]
    },
    {
      "cell_type": "markdown",
      "metadata": {
        "id": "BElmDWn_RfOT"
      },
      "source": [
        "# Great Job 🚀"
      ]
    }
  ],
  "metadata": {
    "colab": {
      "collapsed_sections": [
        "qVZnZlIjDBUQ",
        "WMbPqCPrED6I",
        "BoR3UQTfJQ3I",
        "NUs5SBgMKbnP",
        "GbkufAcWLRD0",
        "zi6-cUQRLxTM",
        "XICUiEOPPYqF",
        "LOgGOKknQhDj"
      ],
      "provenance": []
    },
    "kernelspec": {
      "display_name": ".venv",
      "language": "python",
      "name": "python3"
    },
    "language_info": {
      "codemirror_mode": {
        "name": "ipython",
        "version": 3
      },
      "file_extension": ".py",
      "mimetype": "text/x-python",
      "name": "python",
      "nbconvert_exporter": "python",
      "pygments_lexer": "ipython3",
      "version": "3.12.2"
    }
  },
  "nbformat": 4,
  "nbformat_minor": 0
}
