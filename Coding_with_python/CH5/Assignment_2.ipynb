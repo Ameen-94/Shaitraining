{
  "cells": [
    {
      "cell_type": "markdown",
      "metadata": {
        "id": "Im6C6hMpIAh_"
      },
      "source": [
        "# Python Basics II Exercises\n",
        "\n",
        "\n",
        "## EX 1 - Data Structures\n",
        "\n",
        "**Strings**:\n",
        "   1. Write a function to count the number of vowels in a given string.\n",
        "   2. Write a function that takes a string and returns the same string but with every second letter capitalized.\n",
        "\n",
        "**List**:\n",
        "   3. Write a function that takes a list of numbers and returns a new list containing only the even numbers.\n",
        "   4. Write a function that takes a list and returns a new list with duplicate values removed.\n",
        "\n",
        "**Set**:\n",
        "   5. Write a function that takes two sets and returns their intersection as a new set.\n",
        "   6. Write a function that takes two sets and returns their union as a new set.\n",
        "\n",
        "**Tuple**:\n",
        "   7. Write a function that takes a list of tuples and sorts them based on the second element of each tuple.\n",
        "   8. Write a function that takes a tuple and returns a reversed version of that tuple.\n",
        "\n",
        "**Dictionary**:\n",
        "   9. Write a function that takes a dictionary and returns the keys and values as separate lists.\n",
        "   10. Write a function that takes a dictionary and a key, and if the key exists in the dictionary, return its value. If the key does not exist, return a default value.\n",
        "\n",
        "## EX 2 - Conditional Statements, Loops, and Functions\n",
        "\n",
        "**Task 1:** Write a program that takes two numbers as inputs from the user and prints their sum.\n",
        "\n",
        "**Task 2:** Write a program that takes an integer input from the user. Use a `for` loop to print all numbers from that integer down to 0.\n",
        "\n",
        "**Task 3:** Write a program that takes an integer input from the user. Use a `while` loop to keep doubling the number until it is greater than 1000, then print the result.\n",
        "\n",
        "**Task 4:** Write a function that takes a number as input and returns the square of the number. Use it in a program that takes an input from the user and prints the square.\n",
        "\n",
        "**Task 5:** Write a program that takes a number as input from the user. If the number is greater than 10, print \"Big number\". If the number is less than or equal to 10, print \"Small number\".\n",
        "\n",
        "**Task 6:** Write a function that takes two numbers as inputs and returns their product. Use this function in a program that takes two inputs from the user and prints the product.\n",
        "\n",
        "**Task 7:** Write a program that uses a `while` loop to take a number as input from the user, subtract 5, and print the result. Continue this until the result is less than 0.\n",
        "\n",
        "**Task 8:** Write a program that uses a `for` loop to take an integer input from the user and print the factorial of that number.\n",
        "\n",
        "**Task 9:** Write a program that takes a number as input from the user. If the number is positive, print \"Positive\". If the number is negative, print \"Negative\". If the number is zero, print \"Zero\".\n",
        "\n",
        "**Task 10:** Write a lambda function that takes two numbers as inputs and returns their division as a floating-point number. Use this function in a program that takes two inputs from the user and prints the division.\n",
        "\n",
        "***\n",
        "\n",
        "**P.S. ALL CODE MUST BE CLEAN, READABLE, WELL EXPLAINED, AND FOLLOWS THE PEP 8 STYLE GUIDE.**\n",
        "\n",
        "Happy coding!!"
      ]
    },
    {
      "cell_type": "markdown",
      "metadata": {},
      "source": [
        "## EX 1 Solution:"
      ]
    },
    {
      "cell_type": "code",
      "execution_count": 28,
      "metadata": {
        "id": "TrvnuxuZIMXC"
      },
      "outputs": [],
      "source": [
        "# task 1\n",
        "def num_of_vowels(s: str):\n",
        "    vowels = [\"a\", \"e\", \"i\", \"o\", \"u\"]\n",
        "    count = 0\n",
        "    for i in s:\n",
        "        if i in vowels:\n",
        "            count += 1\n",
        "    return count\n",
        "\n",
        "\n",
        "# task 2\n",
        "def second_letter_captial(s: str):\n",
        "    s = s[0] + s[1:].capitalize()\n",
        "    return s\n",
        "\n",
        "\n",
        "# task 3\n",
        "def even_list(lst: list):\n",
        "    for i in lst:\n",
        "        if i % 2 == 1:\n",
        "            lst.remove(i)\n",
        "    return lst\n",
        "\n",
        "\n",
        "# task 4\n",
        "def duplicate_list(lst: list):\n",
        "    lst = list(set(lst))\n",
        "    return lst\n",
        "\n",
        "\n",
        "# task 5\n",
        "def set_intersection(set1: set, set2: set):\n",
        "    set1 = set1.intersection(set2)\n",
        "    return set1\n",
        "\n",
        "\n",
        "# task 6\n",
        "def set_union(set1: set, set2: set):\n",
        "    set1 = set1.union(set2)\n",
        "    return set1\n",
        "\n",
        "\n",
        "# task 7\n",
        "def sort_tuples(lst: list):\n",
        "    temp_lst = []\n",
        "    new_lst = lst.copy()\n",
        "    for t in lst:\n",
        "        temp_lst.append(t[1])\n",
        "    temp_lst.sort()\n",
        "    for t in lst:\n",
        "        for i in range(len(temp_lst)):\n",
        "            if temp_lst[i] == t[1]:\n",
        "                new_lst[i] = t\n",
        "    return new_lst\n",
        "\n",
        "\n",
        "# task 8\n",
        "def reversed_tuple(tup: tuple):\n",
        "    return tup[::-1]\n",
        "\n",
        "\n",
        "# task 9\n",
        "def dict_keys_values(my_dict: dict):\n",
        "    lst1 = list(my_dict.keys())\n",
        "    lst2 = list(my_dict.values())\n",
        "    return lst1, lst2\n",
        "\n",
        "\n",
        "# task 10\n",
        "def in_dict(my_dict: dict, my_key):\n",
        "    if my_key in my_dict:\n",
        "        return my_dict[my_key]\n",
        "    else:\n",
        "        return \"default\""
      ]
    },
    {
      "cell_type": "markdown",
      "metadata": {},
      "source": [
        "## EX1 Test:"
      ]
    },
    {
      "cell_type": "code",
      "execution_count": 29,
      "metadata": {},
      "outputs": [
        {
          "name": "stdout",
          "output_type": "stream",
          "text": [
            "3\n",
            "hEllo world\n",
            "[2, 4, 6]\n",
            "[2, 4, 5, 6, 7, 8, 9]\n",
            "{1, 5}\n",
            "{1, 2, 3, 5, 9}\n",
            "[(2, 1, 3), (4, 2, 7, 8), (1, 3, 3), (6, 4), (15, 5, 20)]\n",
            "(5, 4, 3, 2, 1)\n",
            "['a', 'b', 'c'] [1, 2, 3]\n",
            "1\n",
            "default\n"
          ]
        }
      ],
      "source": [
        "# task 1 test\n",
        "print(num_of_vowels(\"hello world\"))\n",
        "# task 2 test\n",
        "print(second_letter_captial(\"hello world\"))\n",
        "# task 3 test\n",
        "print(even_list([1, 2, 3, 4, 5, 6]))\n",
        "# task 4 test\n",
        "print(duplicate_list([5, 7, 6, 8, 5, 4, 9, 6, 7, 6, 2]))\n",
        "# task 5 test\n",
        "print(set_intersection({1, 3, 5}, {5, 9, 2, 1}))\n",
        "# task 6 test\n",
        "print(set_union({1, 3, 5}, {5, 9, 2, 1}))\n",
        "# task 7 test\n",
        "print(sort_tuples([(1, 3, 3), (15, 5, 20), (4, 2, 7, 8), (6, 4), (2, 1, 3)]))\n",
        "# task 8 test\n",
        "print(reversed_tuple((1, 2, 3, 4, 5)))\n",
        "# task 9 test\n",
        "lst1, lst2 = dict_keys_values({\"a\": 1, \"b\": 2, \"c\": 3})\n",
        "print(lst1, lst2)\n",
        "# task 10 test\n",
        "print(in_dict({\"a\": 1, \"b\": 2, \"c\": 3}, \"a\"))\n",
        "print(in_dict({\"a\": 1, \"b\": 2, \"c\": 3}, \"d\"))"
      ]
    },
    {
      "cell_type": "markdown",
      "metadata": {},
      "source": [
        "## EX2 Solution:"
      ]
    },
    {
      "cell_type": "code",
      "execution_count": null,
      "metadata": {},
      "outputs": [
        {
          "name": "stdout",
          "output_type": "stream",
          "text": [
            "The sum is: 10.0\n"
          ]
        }
      ],
      "source": [
        "# task 1\n",
        "num1 = float(input(\"Enter the first number: \"))\n",
        "num2 = float(input(\"Enter the second number: \"))\n",
        "print(f\"The sum is: {num1+num2}\")"
      ]
    },
    {
      "cell_type": "code",
      "execution_count": null,
      "metadata": {},
      "outputs": [
        {
          "name": "stdout",
          "output_type": "stream",
          "text": [
            "5\n",
            "4\n",
            "3\n",
            "2\n",
            "1\n",
            "0\n"
          ]
        }
      ],
      "source": [
        "# task 2\n",
        "num = int(input(\"Enter a number: \"))\n",
        "for i in range(num, -1, -1):\n",
        "    print(i)"
      ]
    },
    {
      "cell_type": "code",
      "execution_count": null,
      "metadata": {},
      "outputs": [
        {
          "name": "stdout",
          "output_type": "stream",
          "text": [
            "1280\n"
          ]
        }
      ],
      "source": [
        "# task 3\n",
        "num = int(input(\"Enter a number: \"))\n",
        "while num < 1000:\n",
        "    num *= 2\n",
        "print(num)"
      ]
    },
    {
      "cell_type": "code",
      "execution_count": 42,
      "metadata": {},
      "outputs": [
        {
          "name": "stdout",
          "output_type": "stream",
          "text": [
            "The squared value is 25.0\n"
          ]
        }
      ],
      "source": [
        "# task 4\n",
        "def square(num: float):\n",
        "    return num * num\n",
        "\n",
        "\n",
        "num = float(input(\"Enter a number: \"))\n",
        "print(\"The squared value is\", square(num))"
      ]
    },
    {
      "cell_type": "code",
      "execution_count": 43,
      "metadata": {},
      "outputs": [
        {
          "name": "stdout",
          "output_type": "stream",
          "text": [
            "Small number\n"
          ]
        }
      ],
      "source": [
        "# task 5\n",
        "num = float(input(\"Enter a number: \"))\n",
        "if num > 10:\n",
        "    print(\"Big number\")\n",
        "else:\n",
        "    print(\"Small number\")"
      ]
    },
    {
      "cell_type": "code",
      "execution_count": 44,
      "metadata": {},
      "outputs": [
        {
          "name": "stdout",
          "output_type": "stream",
          "text": [
            "The product of the numbers is: 20.0\n"
          ]
        }
      ],
      "source": [
        "# task 6\n",
        "def num_product(num1: float, num2: float):\n",
        "    return num1 * num2\n",
        "\n",
        "\n",
        "num1 = float(input(\"Enter the first number: \"))\n",
        "num2 = float(input(\"Enter the second number: \"))\n",
        "print(f\"The product of the numbers is: {num_product(num1,num2)}\")"
      ]
    },
    {
      "cell_type": "code",
      "execution_count": null,
      "metadata": {},
      "outputs": [
        {
          "name": "stdout",
          "output_type": "stream",
          "text": [
            "7.0\n",
            "2.0\n",
            "2.0\n",
            "1.0\n",
            "0.0\n",
            "-5.0\n"
          ]
        }
      ],
      "source": [
        "# task 7\n",
        "num = float(input(\"Enter a number: \"))\n",
        "while True:\n",
        "    num -= 5\n",
        "    print(num)\n",
        "    if num < 0:\n",
        "        break"
      ]
    },
    {
      "cell_type": "code",
      "execution_count": 48,
      "metadata": {},
      "outputs": [
        {
          "name": "stdout",
          "output_type": "stream",
          "text": [
            "The factorial is:  120\n"
          ]
        }
      ],
      "source": [
        "# task 8\n",
        "num = int(input(\"Enter a number: \"))\n",
        "fact = 1\n",
        "for i in range(1,num+1):\n",
        "    fact *= i\n",
        "print(\"The factorial is: \",fact)"
      ]
    },
    {
      "cell_type": "code",
      "execution_count": 51,
      "metadata": {},
      "outputs": [
        {
          "name": "stdout",
          "output_type": "stream",
          "text": [
            "Zero\n"
          ]
        }
      ],
      "source": [
        "# task 9\n",
        "num = float(input(\"Enter a number: \"))\n",
        "if num>0:\n",
        "    print(\"Positive\")\n",
        "elif num<0:\n",
        "    print(\"Negative\")\n",
        "else:\n",
        "    print(\"Zero\")"
      ]
    },
    {
      "cell_type": "code",
      "execution_count": 52,
      "metadata": {},
      "outputs": [
        {
          "name": "stdout",
          "output_type": "stream",
          "text": [
            "The divison between the two numbers is: 5.0\n"
          ]
        }
      ],
      "source": [
        "# task 10\n",
        "num_div = lambda num1,num2: num1/num2\n",
        "\n",
        "num1 = float(input(\"Enter the first number: \"))\n",
        "num2 = float(input(\"Enter the second number: \"))\n",
        "print(\"The divison between the two numbers is:\",num_div(num1,num2))"
      ]
    }
  ],
  "metadata": {
    "colab": {
      "provenance": []
    },
    "kernelspec": {
      "display_name": ".venv",
      "language": "python",
      "name": "python3"
    },
    "language_info": {
      "codemirror_mode": {
        "name": "ipython",
        "version": 3
      },
      "file_extension": ".py",
      "mimetype": "text/x-python",
      "name": "python",
      "nbconvert_exporter": "python",
      "pygments_lexer": "ipython3",
      "version": "3.12.2"
    }
  },
  "nbformat": 4,
  "nbformat_minor": 0
}
