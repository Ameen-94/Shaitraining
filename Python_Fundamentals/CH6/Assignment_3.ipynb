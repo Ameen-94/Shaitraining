{
  "cells": [
    {
      "cell_type": "markdown",
      "metadata": {
        "id": "jw2vWAL1Dqy2"
      },
      "source": [
        "# OOP Exercises\n",
        "**By: Mhd Shadi Hasan**\n",
        "\n",
        "**Task 1:** Create a parent class `Shape` with a method `area` that returns 0. Then, create two child classes, `Rectangle` and `Circle`. `Rectangle` has attributes `width` and `height`, `Circle` has an attribute `radius`. Override the `area` method in both child classes to calculate the area correctly (use 3.14 as an approximation for pi).\n",
        "\n",
        "**Task 2:** Expand on the previous task. Add a method `print_info` to the `Shape` class that prints out the type of shape and its area. For each child class, override this method to print the shape type (rectangle or circle), its specific attributes (width and height for rectangles, radius for circles), and its area.\n",
        "\n",
        "**Task 3:** Create a class `BankAccount` with private attributes `__account_number` and `__balance`. Provide getter methods for both (get_account_number, get_balance), and methods to deposit and withdraw money. Ensure that the `withdraw` method checks if there is enough balance before withdrawing.\n",
        "\n",
        "**Task 4:** Create a base class `Animal` that has a method `speak()` which prints `\"I don't know what I say!\"`. Then create two derived classes `Dog` and `Cat` which override the `speak()` method. The `speak()` method in the `Dog` class should print `\"Woof Woof!\"` and the `speak()` method in the `Cat` class should print `\"Meow Meow!\"`.\n",
        "\n",
        "**Task 5:** Continuing from the above task, create a function `animal_speak(animal)` which accepts an `Animal` object and calls its `speak()` method. This demonstrates polymorphism because you can pass any object of a class derived from `Animal` to this function and it will work.\n",
        "\n",
        "**Task 6:** Create a class `Car` with two attributes: `color` (public) and `__speed` (private). The class should have methods `accelerate()` which increases the speed by 10 and `get_speed()` which returns the current speed. The `__speed` attribute should be modified only through the `accelerate()` method, demonstrating the principle of encapsulation.\n",
        "\n",
        "***\n",
        "\n",
        "**P.S. ALL CODE MUST BE CLEAN, READABLE, WELL EXPLAINED, AND FOLLOWS THE PEP 8 STYLE GUIDE.**\n",
        "\n",
        "Happy coding!!"
      ]
    },
    {
      "cell_type": "code",
      "execution_count": null,
      "metadata": {
        "id": "TiHOrRm_DkDD"
      },
      "outputs": [
        {
          "name": "stdout",
          "output_type": "stream",
          "text": [
            "Shape: Rectangle , Width: 5 , Height: 4 , Area: 20\n",
            "Shape: Circle , Radius: 5 , Area: 78.5\n"
          ]
        }
      ],
      "source": [
        "# Task 1 & 2\n",
        "class Shape:\n",
        "    def area():\n",
        "        return 0\n",
        "\n",
        "    def print_info(self):\n",
        "        pass\n",
        "\n",
        "\n",
        "class Rectangle(Shape):\n",
        "    def __init__(self, width, height):\n",
        "        self.width = width\n",
        "        self.height = height\n",
        "\n",
        "    def area(self):\n",
        "        return self.width * self.height\n",
        "\n",
        "    def print_info(self):\n",
        "        print(\n",
        "            f\"Shape: Rectangle , Width: {self.width} , Height: {self.height} , Area: {self.area()}\"\n",
        "        )\n",
        "\n",
        "\n",
        "class Circle(Shape):\n",
        "    def __init__(self, radius):\n",
        "        self.radius = radius\n",
        "\n",
        "    def area(self):\n",
        "        return 3.14 * (self.radius**2)\n",
        "\n",
        "    def print_info(self):\n",
        "        print(f\"Shape: Circle , Radius: {self.radius} , Area: {self.area()}\")\n",
        "\n",
        "\n",
        "circle1 = Circle(5)\n",
        "rectangle1 = Rectangle(5, 4)\n",
        "rectangle1.print_info()\n",
        "circle1.print_info()"
      ]
    },
    {
      "cell_type": "code",
      "execution_count": null,
      "metadata": {},
      "outputs": [
        {
          "name": "stdout",
          "output_type": "stream",
          "text": [
            "Your account number is: 123 and your balance is: 500\n",
            "balance after deposit: 600\n",
            "balance after withdraw: 300\n",
            "You don't have enough balance, withdrawing failed.\n"
          ]
        }
      ],
      "source": [
        "# Task 3\n",
        "class BankAccount:\n",
        "    def __init__(self, account_number, balance):\n",
        "        self.__account_number = account_number\n",
        "        self.__balance = balance\n",
        "\n",
        "    def get_account_number(self):\n",
        "        return self.__account_number\n",
        "\n",
        "    def get_balance(self):\n",
        "        return self.__balance\n",
        "\n",
        "    def deposit_money(self, amount):\n",
        "        self.__balance += amount\n",
        "\n",
        "    def withdraw_money(self, amount):\n",
        "        if amount > self.__balance:\n",
        "            print(\"You don't have enough balance, withdrawing failed.\")\n",
        "        else:\n",
        "            self.__balance -= amount\n",
        "\n",
        "\n",
        "bankaccount1 = BankAccount(123, 500)\n",
        "print(\n",
        "    f\"Your account number is: {bankaccount1.get_account_number()} and your balance is: {bankaccount1.get_balance()}\"\n",
        ")\n",
        "bankaccount1.deposit_money(100)\n",
        "print(\"balance after deposit: {0}\".format(bankaccount1.get_balance()))\n",
        "bankaccount1.withdraw_money(300)\n",
        "print(\"balance after withdraw: {0}\".format(bankaccount1.get_balance()))\n",
        "bankaccount1.withdraw_money(500)\n"
      ]
    },
    {
      "cell_type": "code",
      "execution_count": null,
      "metadata": {},
      "outputs": [
        {
          "name": "stdout",
          "output_type": "stream",
          "text": [
            "I don't know what i say!\n",
            "Woof Woof!\n",
            "Meow Meow!\n"
          ]
        }
      ],
      "source": [
        "# Task 4 & 5\n",
        "class Animal:\n",
        "    def speak():\n",
        "        print(\"I don't know what i say!\")\n",
        "\n",
        "\n",
        "class Dog(Animal):\n",
        "    def speak():\n",
        "        print(\"Woof Woof!\")\n",
        "\n",
        "\n",
        "class Cat(Animal):\n",
        "    def speak():\n",
        "        print(\"Meow Meow!\")\n",
        "\n",
        "\n",
        "def animal_speak(animal: Animal):\n",
        "    animal.speak()\n",
        "\n",
        "\n",
        "animal1 = Animal\n",
        "animal_speak(animal1)\n",
        "\n",
        "animal2 = Dog\n",
        "animal_speak(animal2)\n",
        "\n",
        "animal3 = Cat\n",
        "animal_speak(animal3)"
      ]
    },
    {
      "cell_type": "code",
      "execution_count": 8,
      "metadata": {},
      "outputs": [
        {
          "name": "stdout",
          "output_type": "stream",
          "text": [
            "The speed now is:  80\n",
            "The speed now is:  100\n"
          ]
        }
      ],
      "source": [
        "# Task 6\n",
        "class Car:\n",
        "    def __init__(self, color, speed):\n",
        "        self.color = color\n",
        "        self.__speed = speed\n",
        "\n",
        "    def accelerate(self):\n",
        "        self.__speed += 10\n",
        "\n",
        "    def get_speed(self):\n",
        "        return self.__speed\n",
        "\n",
        "\n",
        "car1 = Car(\"Red\", 80)\n",
        "print(\"The speed now is: \", car1.get_speed())\n",
        "car1.accelerate()\n",
        "car1.accelerate()\n",
        "print(\"The speed now is: \", car1.get_speed())"
      ]
    }
  ],
  "metadata": {
    "colab": {
      "provenance": []
    },
    "kernelspec": {
      "display_name": ".venv",
      "language": "python",
      "name": "python3"
    },
    "language_info": {
      "codemirror_mode": {
        "name": "ipython",
        "version": 3
      },
      "file_extension": ".py",
      "mimetype": "text/x-python",
      "name": "python",
      "nbconvert_exporter": "python",
      "pygments_lexer": "ipython3",
      "version": "3.12.2"
    }
  },
  "nbformat": 4,
  "nbformat_minor": 0
}
