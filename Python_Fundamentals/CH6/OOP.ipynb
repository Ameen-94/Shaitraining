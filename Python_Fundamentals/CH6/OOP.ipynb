{
  "cells": [
    {
      "cell_type": "markdown",
      "metadata": {
        "id": "AJV4wy7AaR7s"
      },
      "source": [
        "# Object Oriented Programming (OOP)\n",
        "**By: Mhd Shadi Hasan**\n",
        "\n",
        "OOP is a programming paradigm, just like functional and procedural programming are paradigms. What you can program with OOP can also be programmed in other paradigms.\n",
        "\n",
        "In OOP we define a \"Class\" and an \"Object\". A class is like a type and an object is an instance of that type (class).\n",
        "\n",
        "In Python, everything is an object. You can use `type()` to check the type of any object.\n"
      ]
    },
    {
      "cell_type": "code",
      "execution_count": 2,
      "metadata": {
        "colab": {
          "base_uri": "https://localhost:8080/"
        },
        "id": "56VdAhF1ahbj",
        "outputId": "febe5f07-e16b-4812-abc5-6c1e780ad01b"
      },
      "outputs": [
        {
          "name": "stdout",
          "output_type": "stream",
          "text": [
            "Shadi\n",
            "Amman\n",
            "<class '__main__.Person'>\n"
          ]
        }
      ],
      "source": [
        "# define the class (type)\n",
        "class Person:\n",
        "  name = 'Shadi'\n",
        "  address = \"Amman\"\n",
        "\n",
        "\n",
        "# create a variable (object) of that class. this is an instance of the class\n",
        "p1 = Person()\n",
        "\n",
        "# you can access attributes of the class.\n",
        "print(p1.name, p1.address, sep='\\n')\n",
        "print(type(p1))"
      ]
    },
    {
      "cell_type": "markdown",
      "metadata": {
        "id": "zAr7hA-Yanx2"
      },
      "source": [
        "A class can have attributes and methods.\n",
        "\n",
        "> Add blockquote\n",
        "\n",
        "\n",
        "\n",
        "* Attributes: are information and data related to the class, they are common among all instances (objects) of the class.\n",
        "* Methods: are functions defined within the class and can operate on the class attributes or arguments passed to them when called.\n",
        "\n",
        "We access an attribute as:\n",
        "`object.attribute`\n",
        "\n",
        "A method is called like:\n",
        "`object.method(arguments)`"
      ]
    },
    {
      "cell_type": "code",
      "execution_count": 3,
      "metadata": {
        "colab": {
          "base_uri": "https://localhost:8080/"
        },
        "id": "3Ykq-wsqa7Vy",
        "outputId": "70bd817f-8340-46cc-a295-e2cb91387004"
      },
      "outputs": [
        {
          "name": "stdout",
          "output_type": "stream",
          "text": [
            "Shadi\n",
            "Shadi\n"
          ]
        }
      ],
      "source": [
        "person_object_1 = Person()\n",
        "person_object_2 = Person()\n",
        "\n",
        "# the name attribute defined above in the class is common among all instances (objects) of the class\n",
        "print(person_object_1.name)\n",
        "print(person_object_2.name)"
      ]
    },
    {
      "cell_type": "code",
      "execution_count": 4,
      "metadata": {
        "colab": {
          "base_uri": "https://localhost:8080/"
        },
        "id": "NjBVrIVWa9JJ",
        "outputId": "fdf9e696-2400-4a5f-f996-a9d9d0a1c9c4"
      },
      "outputs": [
        {
          "name": "stdout",
          "output_type": "stream",
          "text": [
            "X\n",
            "Shadi\n"
          ]
        }
      ],
      "source": [
        "# if you change the value of an attribute in an object, the change is only in that object. Other objects of the class keep the default value\n",
        "person_object_1.name = \"X\"\n",
        "\n",
        "print(person_object_1.name)\n",
        "print(person_object_2.name)"
      ]
    },
    {
      "cell_type": "code",
      "execution_count": 5,
      "metadata": {
        "colab": {
          "base_uri": "https://localhost:8080/"
        },
        "id": "fOUA8P8ybO-J",
        "outputId": "8306deb2-b9f1-47ca-f5bc-7a4c3fa6c643"
      },
      "outputs": [
        {
          "name": "stdout",
          "output_type": "stream",
          "text": [
            "Hello, my name is Shadi\n"
          ]
        }
      ],
      "source": [
        "# Methods\n",
        "class Person:\n",
        "    # this is an attribute\n",
        "    name = 'Shadi'\n",
        "\n",
        "    # a function within the class is called a method\n",
        "    def greet(self):  # self is always the first argument in a method, it refers to the future objects of the class\n",
        "\n",
        "        # printing self.name means that the method will print the name value of the future objects (because you might change name in an obj)\n",
        "        print(f'Hello, my name is {self.name}')\n",
        "\n",
        "\n",
        "new_person_obj = Person()  # create a new instance of the newly defined Person class\n",
        "new_person_obj.greet()  # use the new greet method that was added to the class"
      ]
    },
    {
      "cell_type": "code",
      "execution_count": 6,
      "metadata": {
        "colab": {
          "base_uri": "https://localhost:8080/"
        },
        "id": "3N7FJsijbap6",
        "outputId": "96ccfbce-5628-45fa-b255-c0dd87781f7f"
      },
      "outputs": [
        {
          "name": "stdout",
          "output_type": "stream",
          "text": [
            "Shadi\n",
            "Y\n",
            "Hello, my name is Y\n"
          ]
        }
      ],
      "source": [
        "# create object\n",
        "obj_1 = Person()\n",
        "print(obj_1.name)\n",
        "\n",
        "# change name value\n",
        "obj_1.name = \"Y\"\n",
        "print(obj_1.name)\n",
        "\n",
        "# call greet method\n",
        "obj_1.greet()"
      ]
    },
    {
      "cell_type": "code",
      "execution_count": 7,
      "metadata": {
        "colab": {
          "base_uri": "https://localhost:8080/"
        },
        "id": "9VafY8CRc52N",
        "outputId": "b35f57be-9c1e-4d7f-8675-d9e53b297d3f"
      },
      "outputs": [
        {
          "name": "stdout",
          "output_type": "stream",
          "text": [
            "Hello, my name is Z\n"
          ]
        }
      ],
      "source": [
        "# create object\n",
        "obj_2 = Person()\n",
        "\n",
        "# change name value\n",
        "obj_2.name = \"Z\"\n",
        "\n",
        "# call greet method\n",
        "obj_2.greet()"
      ]
    },
    {
      "cell_type": "code",
      "execution_count": 8,
      "metadata": {
        "colab": {
          "base_uri": "https://localhost:8080/"
        },
        "id": "RR-_u25U0gEO",
        "outputId": "8686c1dc-5a11-43b5-ffd2-424a1a3537e6"
      },
      "outputs": [
        {
          "name": "stdout",
          "output_type": "stream",
          "text": [
            "Hello, my name is Shadi\n"
          ]
        }
      ],
      "source": [
        "# create object\n",
        "obj_3 = Person()\n",
        "\n",
        "# call greet method without changing the name\n",
        "obj_3.greet()"
      ]
    },
    {
      "cell_type": "markdown",
      "metadata": {
        "id": "x4njE5sKbhxA"
      },
      "source": [
        "## Constructors\n",
        "This is a special method that gets called when you create a new instance of a class. It is typically used to initialize the attributes of a class.\n",
        "\n",
        "Using a constructor allows you to give different values to the attributes in each object. I.e. each future object of the call will have its own values for the attributes rather than having common values defined in the class and are shared among all objects.\n"
      ]
    },
    {
      "cell_type": "code",
      "execution_count": 9,
      "metadata": {
        "id": "ALZvsHuqccXU"
      },
      "outputs": [],
      "source": [
        "class Person:\n",
        "    # this is a constructor, it MUST always be called \"__init__\"\n",
        "    def __init__(self, name, age, major):\n",
        "        # now these attributes have special values in each object\n",
        "        self.name = name\n",
        "        self.age = age\n",
        "        self.major = major\n",
        "\n",
        "    def greet(self):\n",
        "        print(f'Hello, my name is: {self.name}, my age is: {self.age}, my major is: {self.major}')\n"
      ]
    },
    {
      "cell_type": "code",
      "execution_count": 10,
      "metadata": {
        "colab": {
          "base_uri": "https://localhost:8080/"
        },
        "id": "qSDgeOJ_csIP",
        "outputId": "e0b84534-9fac-4d19-dd90-50c1d61b746c"
      },
      "outputs": [
        {
          "name": "stdout",
          "output_type": "stream",
          "text": [
            "Shadi\n",
            "29\n",
            "AI\n",
            "Hello, my name is: Shadi, my age is: 29, my major is: AI\n"
          ]
        }
      ],
      "source": [
        "person_with_constructor = Person(name='Shadi', age=29, major='AI')  # the values are passed to the constructor when an object is created\n",
        "\n",
        "print(person_with_constructor.name)\n",
        "print(person_with_constructor.age)\n",
        "print(person_with_constructor.major)\n",
        "\n",
        "person_with_constructor.greet()"
      ]
    },
    {
      "cell_type": "markdown",
      "metadata": {
        "id": "JsHQ4Zv5dOPf"
      },
      "source": [
        "## OOP concepts:\n",
        "\n",
        "These are the main concepts of OOP and are common among all languages with minor differences.\n",
        "\n",
        "1.\t**Inheritance:**\n",
        "This is when one class (the \"child\" or \"subclass\") inherits the attributes and methods of another class (the \"parent\" or \"superclass\"). This allows for code reuse and represents an \"is a\" relationship (for example, a \"Car\" is a \"Vehicle\").\n",
        "\n",
        "2.\t**Polymorphism:**\n",
        "This is when a subclass can override a method from the superclass, allowing it to behave in different ways depending on the context. It's a way for the same piece of code to handle different types of objects, which enhances the flexibility and interface of programs.\n",
        "\n",
        "3.\t**Encapsulation:**\n",
        "This refers to bundling the data (attributes) and the methods that operate on that data into a single unit, which is the object. It also involves controlling access to the object's components via access modifiers (public, protected, private), which helps protect the data from unintended modifications (data integrity).\n",
        "\n",
        "4.\t**Abstraction:**\n",
        " This refers to providing a simplified interface and hiding the complexity from the user, allowing them to interact with the object without needing to understand the inner workings. It can also involve defining abstract attributes or methods in a superclass, which must then be implemented by any subclasses.\n"
      ]
    },
    {
      "cell_type": "markdown",
      "metadata": {
        "id": "IOPoDLeIKNiN"
      },
      "source": [
        "### Inheritance"
      ]
    },
    {
      "cell_type": "code",
      "execution_count": 12,
      "metadata": {
        "id": "AbqW7fjjdZfi"
      },
      "outputs": [],
      "source": [
        "# Inheritance\n",
        "class Person:\n",
        "    def __init__(self, name):\n",
        "        self.name = name\n",
        "\n",
        "    def greet(self):\n",
        "        print(f'Hello, my name is {self.name}')\n",
        "\n",
        "\n",
        "class Employee(Person):   # Employee is a subclass of Person\n",
        "    def __init__(self, name, employee_id):\n",
        "        super().__init__(name)  # Call the __init__ constructor of the superclass\n",
        "        self.employee_id = employee_id  # new attribute in the subclass not found in superclass\n",
        "\n",
        "    def work(self):  # new method in the subclass\n",
        "        print(f'{self.name} is working...')\n"
      ]
    },
    {
      "cell_type": "code",
      "execution_count": 13,
      "metadata": {
        "colab": {
          "base_uri": "https://localhost:8080/"
        },
        "id": "KmvInDUwdaim",
        "outputId": "2d26f075-0048-49a4-9175-868cfe8805e3"
      },
      "outputs": [
        {
          "name": "stdout",
          "output_type": "stream",
          "text": [
            "Ali 1234\n",
            "Hello, my name is Ali\n",
            "Ali is working...\n"
          ]
        }
      ],
      "source": [
        "# create object of the subclass\n",
        "emp_1 = Employee('Ali', 1234)\n",
        "\n",
        "# both superclass and subclass attributes can be found in the object\n",
        "print(emp_1.name, emp_1.employee_id)\n",
        "\n",
        "# superclass and subclass methods can be called from the object\n",
        "emp_1.greet()\n",
        "emp_1.work()"
      ]
    },
    {
      "cell_type": "markdown",
      "metadata": {
        "id": "4Dq70KeGKSXP"
      },
      "source": [
        "### Polymorphism"
      ]
    },
    {
      "cell_type": "code",
      "execution_count": 14,
      "metadata": {
        "id": "ESygbdHNgbBX"
      },
      "outputs": [],
      "source": [
        "# Polymorphism\n",
        "class Person:\n",
        "    def greet(self):\n",
        "        print('Hello')\n",
        "\n",
        "\n",
        "class Employee(Person):\n",
        "    def greet(self):  # This overrides the greet method in Person superclass\n",
        "        print('Hello, I am an employee')\n",
        "\n",
        "\n",
        "class Student(Person):\n",
        "    def greet(self):  # This overrides the greet method in Person superclass\n",
        "        print('Hello , I am a Student')\n",
        "\n",
        "\n",
        "class Worker(Person):\n",
        "      pass  # this is an empty class"
      ]
    },
    {
      "cell_type": "code",
      "execution_count": 15,
      "metadata": {
        "colab": {
          "base_uri": "https://localhost:8080/"
        },
        "id": "Q6IcJ8R2hDIC",
        "outputId": "67a15f1c-ccff-41e3-88ca-c49ee9ed180f"
      },
      "outputs": [
        {
          "name": "stdout",
          "output_type": "stream",
          "text": [
            "Hello, I am an employee\n"
          ]
        }
      ],
      "source": [
        "emp = Employee()\n",
        "emp.greet()"
      ]
    },
    {
      "cell_type": "code",
      "execution_count": 16,
      "metadata": {
        "colab": {
          "base_uri": "https://localhost:8080/"
        },
        "id": "mUbTQSQYvlip",
        "outputId": "fcc46cb1-78eb-4556-fc7a-18b948c7e158"
      },
      "outputs": [
        {
          "name": "stdout",
          "output_type": "stream",
          "text": [
            "Hello , I am a Student\n"
          ]
        }
      ],
      "source": [
        "stu = Student()\n",
        "stu.greet()"
      ]
    },
    {
      "cell_type": "code",
      "execution_count": 18,
      "metadata": {
        "colab": {
          "base_uri": "https://localhost:8080/"
        },
        "id": "FIM21-SepTY1",
        "outputId": "e76a5b92-fe76-46d7-d3a8-533f0919773a"
      },
      "outputs": [
        {
          "name": "stdout",
          "output_type": "stream",
          "text": [
            "Hello\n"
          ]
        }
      ],
      "source": [
        "wrk = Worker()\n",
        "wrk.greet() "
      ]
    },
    {
      "cell_type": "markdown",
      "metadata": {
        "id": "s1FThvr_K1sO"
      },
      "source": [
        "### Encapsulation\n",
        "\n",
        "Attributes and methods can be:\n",
        "\n",
        "1. Public: These can be accessed from anywhere, inside and outside of the class.\n",
        "By default, all attributes and methods are public.\n",
        "\n",
        "2. Protected: These should not be accessed outside of the class itself and its subclasses.\n",
        "Python does not have direct support for protected members, but a convention is to prefix the name with a single underscore (_).\n",
        "\n",
        "3. Private: These should only be accessed from inside the class.\n",
        "Python has no strict enforcement of private attributes/methods,\n",
        "but by convention, a name prefixed with double underscore (__) should be treated as a private."
      ]
    },
    {
      "cell_type": "code",
      "execution_count": 19,
      "metadata": {
        "colab": {
          "base_uri": "https://localhost:8080/"
        },
        "id": "vovSufzad_cQ",
        "outputId": "29360520-b37d-4b5c-9e8d-66bcc24492d9"
      },
      "outputs": [
        {
          "name": "stdout",
          "output_type": "stream",
          "text": [
            "Shadi\n",
            "29\n",
            "Hello!\n"
          ]
        }
      ],
      "source": [
        "# Encapsulation Public\n",
        "class Person:\n",
        "    def __init__(self, name, age):\n",
        "        self.name = name  # public attribute\n",
        "        self.age = age  # public attribute\n",
        "\n",
        "    def greet(self):  # public method\n",
        "        print(\"Hello!\")\n",
        "\n",
        "\n",
        "prsn = Person(\"Shadi\",29)\n",
        "\n",
        "print(prsn.name)\n",
        "print(prsn.age)\n",
        "\n",
        "prsn.greet()"
      ]
    },
    {
      "cell_type": "code",
      "execution_count": 20,
      "metadata": {
        "colab": {
          "base_uri": "https://localhost:8080/"
        },
        "id": "yaziYhCSh_BD",
        "outputId": "a3666621-57f8-4254-b378-e0c7a83b6356"
      },
      "outputs": [
        {
          "name": "stdout",
          "output_type": "stream",
          "text": [
            "Shadi\n",
            "29\n",
            "This is a protected method\n"
          ]
        }
      ],
      "source": [
        "# Encapsulation Protected\n",
        "class Person:\n",
        "    def __init__(self, name, age):\n",
        "        self._name = name  # protected attribute\n",
        "        self._age = age  # protected attribute\n",
        "\n",
        "    def _protected_method(self):  # protected method\n",
        "        print(\"This is a protected method\")\n",
        "\n",
        "\n",
        "prsn_2 = Person(\"Shadi\", 29)\n",
        "\n",
        "print(prsn_2._name)\n",
        "print(prsn_2._age)\n",
        "\n",
        "prsn_2._protected_method()"
      ]
    },
    {
      "cell_type": "code",
      "execution_count": 21,
      "metadata": {
        "id": "cd0jZJgKhmAJ"
      },
      "outputs": [],
      "source": [
        "# Encapsulation Private\n",
        "class Person:\n",
        "    def __init__(self, name, age):\n",
        "        self.__name = name  # private attribute\n",
        "        self.__age = age  # private attribute\n",
        "\n",
        "    def happy_birthday(self):  # public method\n",
        "      self.__age = self.__age + 1  # private attribute used inside the class itself\n",
        "\n",
        "    def __private_method(self):  # private method\n",
        "        print(\"This is a private method\")"
      ]
    },
    {
      "cell_type": "code",
      "execution_count": 22,
      "metadata": {
        "id": "a1jMxWfXM__i"
      },
      "outputs": [],
      "source": [
        "prsn_3 = Person(\"Shadi\", 29)"
      ]
    },
    {
      "cell_type": "code",
      "execution_count": null,
      "metadata": {
        "colab": {
          "base_uri": "https://localhost:8080/",
          "height": 211
        },
        "id": "dgxu6mhSjHkO",
        "outputId": "aab305ed-8b6d-4796-fb93-be7a35ab35e8"
      },
      "outputs": [
        {
          "ename": "AttributeError",
          "evalue": "'Person' object has no attribute '__private_method'",
          "output_type": "error",
          "traceback": [
            "\u001b[31m---------------------------------------------------------------------------\u001b[39m",
            "\u001b[31mAttributeError\u001b[39m                            Traceback (most recent call last)",
            "\u001b[36mCell\u001b[39m\u001b[36m \u001b[39m\u001b[32mIn[26]\u001b[39m\u001b[32m, line 5\u001b[39m\n\u001b[32m      1\u001b[39m \u001b[38;5;66;03m# try to access private attributes of methods\u001b[39;00m\n\u001b[32m      2\u001b[39m \u001b[38;5;66;03m#print(prsn_3.__name)\u001b[39;00m\n\u001b[32m      3\u001b[39m \u001b[38;5;66;03m#print(prsn_3.__age)\u001b[39;00m\n\u001b[32m----> \u001b[39m\u001b[32m5\u001b[39m \u001b[43mprsn_3\u001b[49m\u001b[43m.\u001b[49m\u001b[43m__private_method\u001b[49m()\n",
            "\u001b[31mAttributeError\u001b[39m: 'Person' object has no attribute '__private_method'"
          ]
        }
      ],
      "source": [
        "# try to access private attributes of methods\n",
        "print(prsn_3.__name)\n",
        "print(prsn_3.__age)\n",
        "\n",
        "prsn_3.__private_method()"
      ]
    },
    {
      "cell_type": "code",
      "execution_count": 27,
      "metadata": {
        "colab": {
          "base_uri": "https://localhost:8080/"
        },
        "id": "WINszQB1NZGQ",
        "outputId": "73cb808f-9479-4a6c-cd32-7b59893ccb17"
      },
      "outputs": [
        {
          "name": "stdout",
          "output_type": "stream",
          "text": [
            "Shadi\n",
            "29\n",
            "This is a private method\n"
          ]
        }
      ],
      "source": [
        "# to access private attributes and methods you must use the syntax \"obj_ClassName__Attribute_name\" or \"obj_ClassName__method_name()\"\n",
        "print(prsn_3._Person__name)\n",
        "print(prsn_3._Person__age)\n",
        "\n",
        "prsn_3._Person__private_method()"
      ]
    },
    {
      "cell_type": "code",
      "execution_count": 32,
      "metadata": {
        "colab": {
          "base_uri": "https://localhost:8080/"
        },
        "id": "MFvP9OyNjL8V",
        "outputId": "27533232-0c00-41d6-f929-c532d5d2755a"
      },
      "outputs": [
        {
          "name": "stdout",
          "output_type": "stream",
          "text": [
            "34\n"
          ]
        }
      ],
      "source": [
        "# this public method interacts with private variable\n",
        "prsn_3.happy_birthday()\n",
        "\n",
        "# we can see the change\n",
        "print(prsn_3._Person__age)"
      ]
    },
    {
      "cell_type": "code",
      "execution_count": 33,
      "metadata": {
        "colab": {
          "base_uri": "https://localhost:8080/"
        },
        "id": "1C6TAHZfihKn",
        "outputId": "d29a621e-8a5a-44a5-dc38-76dc376f9df1"
      },
      "outputs": [
        {
          "name": "stdout",
          "output_type": "stream",
          "text": [
            "5\n",
            "3.1415\n"
          ]
        }
      ],
      "source": [
        "# we sometimes need to use public methods such as \"set\" and \"get\" to interact with private attributes\n",
        "class Circle:\n",
        "  def __init__(self, r):\n",
        "    self.r = r\n",
        "    self.__pi = 3.14\n",
        "\n",
        "  def get(self):\n",
        "    return self.__pi\n",
        "\n",
        "  def set(self, new_pi):\n",
        "    self.__pi = new_pi\n",
        "\n",
        "\n",
        "my_circle = Circle(5)\n",
        "print(my_circle.r)\n",
        "\n",
        "my_circle.set(3.1415)\n",
        "print(my_circle.get())"
      ]
    },
    {
      "cell_type": "markdown",
      "metadata": {
        "id": "lYYi0_WkQxzz"
      },
      "source": [
        "### Abstraction"
      ]
    },
    {
      "cell_type": "code",
      "execution_count": 34,
      "metadata": {
        "id": "N1Zyz4IemtOT"
      },
      "outputs": [],
      "source": [
        "# Abstraction\n",
        "class Animal:\n",
        "    def make_sound(self):  # abstract method without implementation\n",
        "        pass\n",
        "\n",
        "\n",
        "class Cat(Animal):\n",
        "    def make_sound(self):\n",
        "        print(\"Meow\")\n",
        "\n",
        "\n",
        "class Dog(Animal):\n",
        "    def make_sound(self):\n",
        "        print(\"Bark\")"
      ]
    },
    {
      "cell_type": "code",
      "execution_count": 35,
      "metadata": {
        "id": "EdU0kUhOzrpv"
      },
      "outputs": [],
      "source": [
        "animal_obj = Animal()\n",
        "animal_obj.make_sound()  # does not do anything"
      ]
    },
    {
      "cell_type": "code",
      "execution_count": 36,
      "metadata": {
        "colab": {
          "base_uri": "https://localhost:8080/"
        },
        "id": "K79oMqfMm6lG",
        "outputId": "3fbcd975-e200-42a7-cf58-20197b2ad4ce"
      },
      "outputs": [
        {
          "name": "stdout",
          "output_type": "stream",
          "text": [
            "Meow\n"
          ]
        }
      ],
      "source": [
        "cat_obj = Cat()\n",
        "cat_obj.make_sound()"
      ]
    },
    {
      "cell_type": "code",
      "execution_count": 37,
      "metadata": {
        "colab": {
          "base_uri": "https://localhost:8080/"
        },
        "id": "XYi4281Vm9dp",
        "outputId": "d41e1fab-f29f-4ad3-e15e-701659220bc5"
      },
      "outputs": [
        {
          "name": "stdout",
          "output_type": "stream",
          "text": [
            "Bark\n"
          ]
        }
      ],
      "source": [
        "dog_obj = Dog()\n",
        "dog_obj.make_sound()"
      ]
    },
    {
      "cell_type": "markdown",
      "metadata": {
        "id": "qQcXBydvpMqx"
      },
      "source": [
        "#Great Job **🚀**"
      ]
    }
  ],
  "metadata": {
    "colab": {
      "provenance": []
    },
    "kernelspec": {
      "display_name": ".venv",
      "language": "python",
      "name": "python3"
    },
    "language_info": {
      "codemirror_mode": {
        "name": "ipython",
        "version": 3
      },
      "file_extension": ".py",
      "mimetype": "text/x-python",
      "name": "python",
      "nbconvert_exporter": "python",
      "pygments_lexer": "ipython3",
      "version": "3.12.2"
    }
  },
  "nbformat": 4,
  "nbformat_minor": 0
}
